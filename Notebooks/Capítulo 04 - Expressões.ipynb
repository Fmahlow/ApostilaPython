{
 "cells": [
  {
   "cell_type": "markdown",
   "id": "5a5a83e1",
   "metadata": {},
   "source": [
    "# <center>Capítulo 4: Expressões\n"
   ]
  },
  {
   "cell_type": "markdown",
   "id": "dbfbf1e4",
   "metadata": {},
   "source": [
    "## 4.1. Introdução\n",
    "\n"
   ]
  },
  {
   "cell_type": "markdown",
   "id": "fdd20429",
   "metadata": {},
   "source": [
    "[D] Uma \"expressão\" em Python é definida como uma combinação de itens sintáticos, isto é: uma expressão pode consistir de uma única constante, de uma única variável, de um único elemento de conjunto, ou uma combinação de constantes, variáveis, elementos de conjuntos, unidos com um ou mais operadores e, possivelmente, agrupados com parênteses.\n",
    " \n",
    "\n",
    "[D] \"Operadores\" especificam as computações a serem realizadas sobre os valores dos elementos básicos.\n",
    " \n",
    "\n",
    "[D] As expressões, no Python, são classificadas em aritméticas, caracteres, relacionais e lógicas."
   ]
  },
  {
   "cell_type": "markdown",
   "id": "9a284459",
   "metadata": {},
   "source": [
    "## 4.2. Expressões Aritméticas\n",
    "\n"
   ]
  },
  {
   "cell_type": "markdown",
   "id": "9300fe51",
   "metadata": {},
   "source": [
    "[D] Uma \"expressão aritmética\" é usada para expressar uma computação numérica. O cálculo desta expressão produz um valor numérico cujo tipo é inteiro, real, dupla precisão ou complexo.\n",
    " \n",
    "\n",
    "[D] Os \"operadores aritméticos\" são definidos pela tabela abaixo:"
   ]
  },
  {
   "cell_type": "markdown",
   "id": "b75f8747",
   "metadata": {},
   "source": [
    "<p>Operador&nbsp;&nbsp;&nbsp;&nbsp; Definição&nbsp;&nbsp;&nbsp;&nbsp;&nbsp;&nbsp;&nbsp;&nbsp;&nbsp;&nbsp;&nbsp;&nbsp;&nbsp;\n",
    "Uso&nbsp;&nbsp;&nbsp;&nbsp;&nbsp;&nbsp;&nbsp;&nbsp; Significado\n",
    "<br>----------------------------------------------------------------------------------------------------\n",
    "<br>**&nbsp;&nbsp;&nbsp;&nbsp;&nbsp;&nbsp;&nbsp;&nbsp;&nbsp;&nbsp;&nbsp;&nbsp;&nbsp;&nbsp;&nbsp;\n",
    "potenciação&nbsp;&nbsp;&nbsp;&nbsp;&nbsp;&nbsp;&nbsp;&nbsp;&nbsp;\n",
    "a**b&nbsp;&nbsp;&nbsp;&nbsp;&nbsp;&nbsp;&nbsp; a elevado à potência\n",
    "b\n",
    "<br>*&nbsp;&nbsp;&nbsp;&nbsp;&nbsp;&nbsp;&nbsp;&nbsp;&nbsp;&nbsp;&nbsp;&nbsp;&nbsp;&nbsp;&nbsp;&nbsp;&nbsp;\n",
    "multiplicação&nbsp;&nbsp;&nbsp;&nbsp;&nbsp;&nbsp;&nbsp;&nbsp;\n",
    "a*b&nbsp;&nbsp;&nbsp;&nbsp;&nbsp;&nbsp;&nbsp;&nbsp;&nbsp; a multiplicado\n",
    "por b\n",
    "<br>/&nbsp;&nbsp;&nbsp;&nbsp;&nbsp;&nbsp;&nbsp;&nbsp;&nbsp;&nbsp;&nbsp;&nbsp;&nbsp;&nbsp;&nbsp;&nbsp;&nbsp;&nbsp;\n",
    "divisão&nbsp;&nbsp;&nbsp;&nbsp;&nbsp;&nbsp;&nbsp;&nbsp;&nbsp;&nbsp;&nbsp;&nbsp;&nbsp;&nbsp;&nbsp;&nbsp;&nbsp;\n",
    "a/b&nbsp;&nbsp;&nbsp;&nbsp;&nbsp;&nbsp;&nbsp;&nbsp;&nbsp;&nbsp; a dividido\n",
    "por b\n",
    "<br>+&nbsp;&nbsp;&nbsp;&nbsp;&nbsp;&nbsp;&nbsp;&nbsp;&nbsp;&nbsp;&nbsp;&nbsp;&nbsp;&nbsp;&nbsp;&nbsp;&nbsp;\n",
    "adição&nbsp;&nbsp;&nbsp;&nbsp;&nbsp;&nbsp;&nbsp;&nbsp;&nbsp;&nbsp;&nbsp;&nbsp;&nbsp;&nbsp;&nbsp;&nbsp;&nbsp;\n",
    "a+b&nbsp;&nbsp;&nbsp;&nbsp;&nbsp;&nbsp;&nbsp;&nbsp;&nbsp; a mais b\n",
    "<br>-&nbsp;&nbsp;&nbsp;&nbsp;&nbsp;&nbsp;&nbsp;&nbsp;&nbsp;&nbsp;&nbsp;&nbsp;&nbsp;&nbsp;&nbsp;&nbsp;&nbsp;&nbsp;\n",
    "subtração&nbsp;&nbsp;&nbsp;&nbsp;&nbsp;&nbsp;&nbsp;&nbsp;&nbsp;&nbsp;&nbsp;&nbsp;\n",
    "a-b&nbsp;&nbsp;&nbsp;&nbsp;&nbsp;&nbsp;&nbsp;&nbsp;&nbsp;&nbsp; a menos\n",
    "b\n",
    "<br>-&nbsp;&nbsp;&nbsp;&nbsp;&nbsp;&nbsp;&nbsp;&nbsp;&nbsp;&nbsp;&nbsp;&nbsp;&nbsp;&nbsp;&nbsp;&nbsp;&nbsp;&nbsp;\n",
    "menos unário&nbsp;&nbsp;&nbsp;&nbsp;&nbsp;&nbsp;&nbsp; -a&nbsp;&nbsp;&nbsp;&nbsp;&nbsp;&nbsp;&nbsp;&nbsp;&nbsp;&nbsp;&nbsp;&nbsp;\n",
    "a com sinal invertido\n",
    "<br>&nbsp;\n",
    "</p>\n"
   ]
  },
  {
   "cell_type": "markdown",
   "id": "1b261bcd",
   "metadata": {},
   "source": [
    "[C] Em expressões contendo um único operando, o tipo do operando define o tipo de expressão.\n",
    " \n",
    "\n",
    "[C] Em expressões com mais de um tipo de operando, o tipo da expressão depende dos tipos dos operandos e dos operadores.\n",
    " \n",
    "\n",
    "[D] Para todas as operações (com exceção da potenciação):\n",
    "\n",
    "1. Se os operandos forem do mesmo tipo, este será o tipo da expressão.\n",
    "2. Se os operandos forem de tipos diferentes, o tipo da expressão será o tipo do operando de maior precedência, dada pela tabela abaixo:"
   ]
  },
  {
   "cell_type": "markdown",
   "id": "28ac1704",
   "metadata": {},
   "source": [
    "Tipo - Precedência\n",
    "1. inteiro\n",
    "2. real\n",
    "3. dupla precisão\n",
    "4. complexo"
   ]
  },
  {
   "cell_type": "markdown",
   "id": "10462c69",
   "metadata": {},
   "source": [
    "[D] Regras para ordem de computação:\n",
    "\n",
    "1. Parênteses podem ser usados para agrupar operandos em uma expressão. Qualquer expressão entre parênteses é calculada antes do cálculo da expressão da qual ela é uma parte. Parênteses mais internos são calculados antes.\n",
    "2. Com exceção do uso dos parênteses, as operações são realizadas na seguinte ordem de precedência:"
   ]
  },
  {
   "cell_type": "markdown",
   "id": "368ed837",
   "metadata": {},
   "source": [
    "<p>Operação&nbsp;&nbsp;&nbsp;&nbsp; Precedência\n",
    "<br>--------------------------------------------------------------\n",
    "<br>+ e -&nbsp;&nbsp;&nbsp;&nbsp;&nbsp;&nbsp;&nbsp;&nbsp;&nbsp;&nbsp;&nbsp;&nbsp;\n",
    "mais baixa\n",
    "<br>* e /&nbsp;&nbsp;&nbsp;&nbsp;&nbsp;&nbsp;&nbsp;&nbsp;&nbsp;&nbsp;&nbsp;&nbsp;&nbsp;\n",
    "intermediária\n",
    "<br>**&nbsp;&nbsp;&nbsp;&nbsp;&nbsp;&nbsp;&nbsp;&nbsp;&nbsp;&nbsp;&nbsp;&nbsp;&nbsp;&nbsp;&nbsp;&nbsp;\n",
    "mais alta\n",
    "</p>"
   ]
  },
  {
   "cell_type": "markdown",
   "id": "9bc80bef",
   "metadata": {},
   "source": [
    "3. Para operadores de mesma precedência, o cálculo se desenvolve da esquerda para a direita."
   ]
  },
  {
   "cell_type": "markdown",
   "id": "81e14c25",
   "metadata": {},
   "source": [
    "## 4.3. Expressões Relacionais\n",
    "\n"
   ]
  },
  {
   "cell_type": "markdown",
   "id": "0797086e",
   "metadata": {},
   "source": [
    "[D] Uma \"expressão relacional\" é usada para comparar os valores de duas expressões aritméticas (ou os valores de duas expressões caractere).\n",
    " \n",
    "\n",
    "[D] A comparação entre duas expressões aritméticas é feita através dos \"operadores relacionais\".\n",
    " \n",
    "\n",
    "[C] O cálculo de uma expressão relacional produz um resultado lógico, com um valor \"verdadeiro\" ou \"falso\". A expressão é interpretada como \"verdade\" se os valores dos operandos satisfazem a relação matemática especificada pelo operador, e \"falso\" se eles não satisfazem a relação.\n",
    " \n",
    "\n",
    "[D] \"Operadores Relacionais\" são aqueles definidos na tabela abaixo:"
   ]
  },
  {
   "cell_type": "markdown",
   "id": "d4c3c7c8",
   "metadata": {},
   "source": [
    "<p>Operador&nbsp;&nbsp;&nbsp;&nbsp; Definição&nbsp;&nbsp;&nbsp;&nbsp;&nbsp;&nbsp;&nbsp;&nbsp;&nbsp;&nbsp;&nbsp;&nbsp;&nbsp;&nbsp;&nbsp;&nbsp;&nbsp;&nbsp;&nbsp;&nbsp;&nbsp;&nbsp;&nbsp;&nbsp;&nbsp;&nbsp;&nbsp;&nbsp;&nbsp;&nbsp;&nbsp;&nbsp;&nbsp;&nbsp;&nbsp;&nbsp;&nbsp;&nbsp;\n",
    "Uso&nbsp;&nbsp;&nbsp;&nbsp;&nbsp;&nbsp;&nbsp;&nbsp; Significado\n",
    "<br>---------------------------------------------------------------------------------------\n",
    "<br>==&nbsp;&nbsp;&nbsp;&nbsp;&nbsp;&nbsp;&nbsp;&nbsp;&nbsp;&nbsp;&nbsp;&nbsp;&nbsp;&nbsp;&nbsp;\n",
    "igual a&nbsp;&nbsp;&nbsp;&nbsp;&nbsp;&nbsp;&nbsp;&nbsp;&nbsp;&nbsp;&nbsp;&nbsp;&nbsp;&nbsp;&nbsp;&nbsp;&nbsp;&nbsp;&nbsp;&nbsp;&nbsp;&nbsp;&nbsp;&nbsp;&nbsp;&nbsp;&nbsp;&nbsp;&nbsp;&nbsp;&nbsp;&nbsp;&nbsp;&nbsp;&nbsp;&nbsp;&nbsp;&nbsp;&nbsp;&nbsp;&nbsp;&nbsp;\n",
    "A==B&nbsp;&nbsp;&nbsp;&nbsp; A é igual a B ?\n",
    "<br>!=&nbsp;&nbsp;&nbsp;&nbsp;&nbsp;&nbsp;&nbsp;&nbsp;&nbsp;&nbsp;&nbsp;&nbsp;&nbsp;&nbsp;&nbsp;&nbsp;\n",
    "diferente de&nbsp;&nbsp;&nbsp;&nbsp;&nbsp;&nbsp;&nbsp;&nbsp;&nbsp;&nbsp;&nbsp;&nbsp;&nbsp;&nbsp;&nbsp;&nbsp;&nbsp;&nbsp;&nbsp;&nbsp;&nbsp;&nbsp;&nbsp;&nbsp;&nbsp;&nbsp;&nbsp;&nbsp;&nbsp;&nbsp;&nbsp;&nbsp;&nbsp;&nbsp;\n",
    "A/=B&nbsp;&nbsp;&nbsp;&nbsp;&nbsp; A é diferente de B?\n",
    "<br>&lt;&nbsp;&nbsp;&nbsp;&nbsp;&nbsp;&nbsp;&nbsp;&nbsp;&nbsp;&nbsp;&nbsp;&nbsp;&nbsp;&nbsp;&nbsp;&nbsp;&nbsp;\n",
    "menor que&nbsp;&nbsp;&nbsp;&nbsp;&nbsp;&nbsp;&nbsp;&nbsp;&nbsp;&nbsp;&nbsp;&nbsp;&nbsp;&nbsp;&nbsp;&nbsp;&nbsp;&nbsp;&nbsp;&nbsp;&nbsp;&nbsp;&nbsp;&nbsp;&nbsp;&nbsp;&nbsp;&nbsp;&nbsp;&nbsp;&nbsp;&nbsp;&nbsp;&nbsp;&nbsp;&nbsp;\n",
    "A&lt;B&nbsp;&nbsp;&nbsp;&nbsp;&nbsp;&nbsp; A é menor a B?\n",
    "<br>&lt;=&nbsp;&nbsp;&nbsp;&nbsp;&nbsp;&nbsp;&nbsp;&nbsp;&nbsp;&nbsp;&nbsp;&nbsp;&nbsp;&nbsp;&nbsp;\n",
    "menor ou igual&nbsp;&nbsp;&nbsp;&nbsp;&nbsp;&nbsp;&nbsp;&nbsp;&nbsp;&nbsp;&nbsp;&nbsp;&nbsp;&nbsp;&nbsp;&nbsp;&nbsp;&nbsp;&nbsp;&nbsp;&nbsp;&nbsp;&nbsp;&nbsp;&nbsp;&nbsp;&nbsp;&nbsp;&nbsp;&nbsp;\n",
    "A&lt;=B&nbsp;&nbsp;&nbsp;&nbsp; A é menor ou igual a B?\n",
    "<br>&gt;&nbsp;&nbsp;&nbsp;&nbsp;&nbsp;&nbsp;&nbsp;&nbsp;&nbsp;&nbsp;&nbsp;&nbsp;&nbsp;&nbsp;&nbsp;&nbsp;&nbsp;\n",
    "maior que&nbsp;&nbsp;&nbsp;&nbsp;&nbsp;&nbsp;&nbsp;&nbsp;&nbsp;&nbsp;&nbsp;&nbsp;&nbsp;&nbsp;&nbsp;&nbsp;&nbsp;&nbsp;&nbsp;&nbsp;&nbsp;&nbsp;&nbsp;&nbsp;&nbsp;&nbsp;&nbsp;&nbsp;&nbsp;&nbsp;&nbsp;&nbsp;&nbsp;&nbsp;&nbsp;&nbsp;&nbsp;\n",
    "A&gt;B&nbsp;&nbsp;&nbsp;&nbsp;&nbsp;&nbsp; A é maior que B ?\n",
    "<br>&gt;=&nbsp;&nbsp;&nbsp;&nbsp;&nbsp;&nbsp;&nbsp;&nbsp;&nbsp;&nbsp;&nbsp;&nbsp;&nbsp;&nbsp;&nbsp;\n",
    "maior ou igual&nbsp;&nbsp;&nbsp;&nbsp;&nbsp;&nbsp;&nbsp;&nbsp;&nbsp;&nbsp;&nbsp;&nbsp;&nbsp;&nbsp;&nbsp;&nbsp;&nbsp;&nbsp;&nbsp;&nbsp;&nbsp;&nbsp;&nbsp;&nbsp;&nbsp;&nbsp;&nbsp;&nbsp;&nbsp;&nbsp;&nbsp;\n",
    "A&gt;=B&nbsp;&nbsp;&nbsp;&nbsp; A é maior ou igual a B?"
   ]
  },
  {
   "cell_type": "markdown",
   "id": "ed3c0cd6",
   "metadata": {},
   "source": [
    "## 4.4. Expressões Lógicas\n",
    "\n"
   ]
  },
  {
   "cell_type": "markdown",
   "id": "067416f6",
   "metadata": {},
   "source": [
    "[D] Uma expressão lógica é usada para realizar um cálculo lógico.\n",
    " \n",
    "\n",
    "[D] Os \"operadores lógicos\" são (listamos somente os principais):"
   ]
  },
  {
   "cell_type": "markdown",
   "id": "57dbc5e5",
   "metadata": {},
   "source": [
    "<p>Operador&nbsp;&nbsp;&nbsp;&nbsp;&nbsp; Definição&nbsp;&nbsp;&nbsp;\n",
    "Uso&nbsp;&nbsp;&nbsp;&nbsp;&nbsp;&nbsp;&nbsp;&nbsp; Significado\n",
    "<br>-----------------------------------------------------------------------------------------------------\n",
    "<br>not&nbsp;&nbsp;&nbsp;&nbsp;&nbsp;&nbsp;&nbsp;&nbsp;&nbsp;&nbsp;&nbsp;&nbsp;&nbsp;&nbsp;\n",
    "negação&nbsp;&nbsp;&nbsp;&nbsp; not A&nbsp;&nbsp;&nbsp;&nbsp;&nbsp;&nbsp;\n",
    "se A é verdade, not A é falso\n",
    "<br>and&nbsp;&nbsp;&nbsp;&nbsp;&nbsp;&nbsp;&nbsp;&nbsp;&nbsp;&nbsp;&nbsp;&nbsp;&nbsp;\n",
    "conjunção&nbsp;&nbsp; A and B&nbsp;&nbsp; para a expressão\n",
    "ser verdade, A e B precisam ser verdade\n",
    "<br>or&nbsp;&nbsp;&nbsp;&nbsp;&nbsp;&nbsp;&nbsp;&nbsp;&nbsp;&nbsp;&nbsp;&nbsp;&nbsp;&nbsp;&nbsp;\n",
    "disjunção&nbsp;&nbsp;&nbsp;&nbsp; A or B&nbsp;&nbsp;&nbsp;&nbsp;\n",
    "para a expressão ser verdade, A ,ou B, precisa ser verdade\n",
    "<br>&nbsp;\n",
    "</p>"
   ]
  },
  {
   "cell_type": "code",
   "execution_count": 9,
   "id": "fc9ec9b9",
   "metadata": {},
   "outputs": [
    {
     "name": "stdout",
     "output_type": "stream",
     "text": [
      "todos são iguais!\n"
     ]
    }
   ],
   "source": [
    "x1 = 1\n",
    "x2 = 1\n",
    "x = 1\n",
    "if x1 == x and x2 == x:\n",
    "    print(\"todos são iguais!\")"
   ]
  },
  {
   "cell_type": "code",
   "execution_count": 10,
   "id": "ee491bd2",
   "metadata": {},
   "outputs": [
    {
     "name": "stdout",
     "output_type": "stream",
     "text": [
      "Olá mundo!\n"
     ]
    }
   ],
   "source": [
    "escrever = True\n",
    "if escrever:\n",
    "    print(\"Olá mundo!\")"
   ]
  },
  {
   "cell_type": "markdown",
   "id": "af4283b4",
   "metadata": {},
   "source": [
    "[D] Regras para cálculos de expressões lógicas.\n",
    "\n",
    "Parênteses podem ser usados e são calculados antes.\n",
    "Os operadores aritméticos são calculados em segundo lugar.\n",
    "Os operadores relacionais são calculados em terceiro lugar.\n",
    "As operações lógicas são realizadas na seguinte ordem de precedência:"
   ]
  },
  {
   "cell_type": "markdown",
   "id": "37ed2c56",
   "metadata": {},
   "source": [
    "Operador - Precedência\n",
    "* not - mais alta\n",
    "* and - intermediária\n",
    "* or - mais baixa\n",
    " "
   ]
  }
 ],
 "metadata": {
  "kernelspec": {
   "display_name": "Python 3 (ipykernel)",
   "language": "python",
   "name": "python3"
  },
  "language_info": {
   "codemirror_mode": {
    "name": "ipython",
    "version": 3
   },
   "file_extension": ".py",
   "mimetype": "text/x-python",
   "name": "python",
   "nbconvert_exporter": "python",
   "pygments_lexer": "ipython3",
   "version": "3.9.7"
  }
 },
 "nbformat": 4,
 "nbformat_minor": 5
}
