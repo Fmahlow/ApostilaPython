{
 "cells": [
  {
   "cell_type": "markdown",
   "id": "cc56fffe",
   "metadata": {},
   "source": [
    "# <center>Capítulo 10: Funções\n"
   ]
  },
  {
   "cell_type": "markdown",
   "id": "8030afbe",
   "metadata": {},
   "source": [
    "## 10.1. Introdução\n",
    "\n"
   ]
  },
  {
   "cell_type": "markdown",
   "id": "61f138a2",
   "metadata": {},
   "source": [
    "[D] Um \"subprograma\", como o próprio nome diz, é uma sequência de comandos que fazem parte de um programa.\n",
    " \n",
    "\n",
    "[C] Um programa executável consiste num único programa principal e subprogramas opcionais.\n",
    " \n",
    "\n",
    "[D] Uma \"função\" é um tipo de subprograma que executa uma determinada tarefa, e pode ser chamada quando conveniente."
   ]
  },
  {
   "cell_type": "markdown",
   "id": "98da11bb",
   "metadata": {},
   "source": [
    "## 10.2. Argumentos de Subprogramas\n"
   ]
  },
  {
   "cell_type": "markdown",
   "id": "7e9d4016",
   "metadata": {},
   "source": [
    "[D] Um \"argumento de subprograma\" é uma entidade que transfere um valor para ou de um subprograma.\n",
    " \n",
    "\n",
    "[D] Há duas espécies de argumentos: atuais e mudos.\n",
    " \n",
    "\n",
    "[D] Os argumentos \"atuais\" são escritos no comando que chama o subprograma.\n",
    " \n",
    "\n",
    "[D] Os argumentos \"mudos\" são especificados na definição do subprograma."
   ]
  },
  {
   "cell_type": "markdown",
   "id": "8fbc8059",
   "metadata": {},
   "source": [
    "## 10.3. Funções Intrínsecas (FI)\n",
    "\n"
   ]
  },
  {
   "cell_type": "markdown",
   "id": "e63fc57d",
   "metadata": {},
   "source": [
    "[C] As funções intrínsecas são procedimentos tão usados que achou-se por bem inclui-las como parte integrante do Python, e portanto, já vem definidas.\n",
    " \n",
    "\n",
    "[D] Uma FI sempre é usada em uma expressão e retorna o valor calculado da função para o argumento, que se encontra entre parênteses:\n",
    "\n",
    "    fi(argumento)\n",
    " \n",
    "\n",
    "[E] Exemplos:\n",
    "    y = len(x) , FI = len , Função: Mostra o comprimento do argumento; argumento = x.\n",
    "    y = len(x**2) , FI = len , nome: Mostra o comprimento do argumento; argumento = x**2.\n",
    " \n",
    "\n",
    "[C] A tabela abaixo contém algumas das funções intrínsecas mais usadas em Python."
   ]
  },
  {
   "cell_type": "markdown",
   "id": "46efb946",
   "metadata": {},
   "source": [
    "<br>&nbsp;\n",
    "<table border=\"\" bordercolor=\"#000000\">\n",
    "<tbody><tr>\n",
    "<td width=\"95\"><b><font face=\"Times New Roman\">FUNÇÃO</font></b></td>\n",
    "\n",
    "<td width=\"293\"><b><center><font face=\"Times New Roman\">DESCRIÇÃO</center></font></b></td>\n",
    "\n",
    "\n",
    "<td width=\"99\">\n",
    "<center><b><font face=\"Times New Roman\">RESULTADO</font></b></center>\n",
    "</td>\n",
    "</tr>\n",
    "\n",
    "<tr>\n",
    "<td width=\"95\"><font face=\"Times New Roman\">int(x)</font></td>\n",
    "\n",
    "<td width=\"293\"><font face=\"Times New Roman\">converte para o tipo inteiro,\n",
    "truncando a mantissa</font></td>\n",
    "\n",
    "\n",
    "<td width=\"99\">\n",
    "<center><font face=\"Times New Roman\">inteiro</font></center>\n",
    "</td>\n",
    "</tr>\n",
    "\n",
    "<tr>\n",
    "<td width=\"95\"><font face=\"Times New Roman\">real(x)</font></td>\n",
    "\n",
    "<td width=\"293\"><font face=\"Times New Roman\">converte para o tipo real</font></td>\n",
    "\n",
    "\n",
    "<td width=\"99\">\n",
    "<center><font face=\"Times New Roman\">real</font></center>\n",
    "</td>\n",
    "</tr>\n",
    "\n",
    "<tr>\n",
    "<td width=\"95\"><font face=\"Times New Roman\">str(x)</font></td>\n",
    "\n",
    "<td width=\"293\"><font face=\"Times New Roman\">converte numérico para string</font></td>\n",
    "\n",
    "\n",
    "<td width=\"99\">\n",
    "<center><font face=\"Times New Roman\">string</font></center>\n",
    "</td>\n",
    "</tr>\n",
    "\n",
    "<tr>\n",
    "<td width=\"95\"><font face=\"Times New Roman\">abs(x)</font></td>\n",
    "\n",
    "<td width=\"293\"><font face=\"Times New Roman\">valor absoluto (ou módulo)</font></td>\n",
    "\n",
    "\n",
    "<td width=\"99\">\n",
    "<center><font face=\"Times New Roman\">mantém</font></center>\n",
    "</td>\n",
    "</tr>\n",
    "\n",
    "<tr>\n",
    "<td width=\"95\"><font face=\"Times New Roman\">max(x,z,w,...)</font></td>\n",
    "\n",
    "<td width=\"293\"><font face=\"Times New Roman\">encontra o maior valor entre\n",
    "os argumentos</font></td>\n",
    "\n",
    "\n",
    "<td width=\"99\">\n",
    "<center><font face=\"Times New Roman\">mantém</font></center>\n",
    "</td>\n",
    "</tr>\n",
    "\n",
    "<tr>\n",
    "<td width=\"95\"><font face=\"Times New Roman\">min(x,z,w,...)</font></td>\n",
    "\n",
    "<td width=\"293\"><font face=\"Times New Roman\">encontra o menor valor entre\n",
    "os argumentos</font></td>\n",
    "\n",
    "\n",
    "<td width=\"99\">\n",
    "<center><font face=\"Times New Roman\">mantém</font></center>\n",
    "</td>\n",
    "</tr>\n",
    "\n",
    "<tr>\n",
    "<td width=\"95\"><font face=\"Times New Roman\">len(x)</font></td>\n",
    "\n",
    "<td width=\"293\"><font face=\"Times New Roman\">comprimento de uma variável\n",
    "ou constante caractere</font></td>\n",
    "\n",
    "\n",
    "<td width=\"99\">\n",
    "<center><font face=\"Times New Roman\">inteiro</font></center>\n",
    "</td>\n",
    "</tr>\n",
    "\n",
    "<tr>\n",
    "<td width=\"95\"><font face=\"Times New Roman\">lista.index(x,z)</font></td>\n",
    "\n",
    "<td width=\"293\"><font face=\"Times New Roman\">localiza a variável\n",
    "ou constante caractere x dentro da variável ou constante z</font></td>\n",
    "\n",
    "<td width=\"99\">\n",
    "<center><font face=\"Times New Roman\">inteiro</font></center>\n",
    "    </td></tr>\n"
   ]
  },
  {
   "cell_type": "markdown",
   "id": "0d20d68f",
   "metadata": {},
   "source": [
    "## 10.4. Funções DEF\n",
    "\n"
   ]
  },
  {
   "cell_type": "markdown",
   "id": "f60b5679",
   "metadata": {},
   "source": [
    "[D] Um subprograma função DEF é usado do mesmo modo que se usa uma função intrínseca. A diferença é que o subprograma DEF é escrito pelo próprio programador. Isto serve para resolver problemas como, por exemplo, para se ter uma função que obtenha o valor de y(x)=x2+3x+2. A função y(x) não teria que ser reescrita diversas vezes ao longo do programa, evitando-se erros.\n",
    " \n",
    "\n",
    "[D] O subprograma DEF sempre começa com o comando def, seguido por uma sequência de comandos, terminando com o final da identação. O controle de execução pode retornar algum resultado para o comando principal através do comando return.\n",
    " \n",
    "\n",
    "[D] Regras para o uso de subprogramas def:\n",
    "\n",
    "1. Deve haver concordância entre os argumentos passados e recebidos, no programa principal e no subprograma.\n",
    "2. Para ter acesso ao valor retornado por uma função deve-se salvar o seu resultado em uma variável."
   ]
  },
  {
   "cell_type": "markdown",
   "id": "ab4f47e0",
   "metadata": {},
   "source": [
    "### 10.4.1. Comando DEF\n",
    "\n"
   ]
  },
  {
   "cell_type": "markdown",
   "id": "3916e928",
   "metadata": {},
   "source": [
    "[CF] A forma geral do comando DEF é:\n",
    "\n",
    "    def nome(a):\n",
    "        codigoDaFuncao\n",
    "        return valor\n",
    "sendo que:\n",
    "\n",
    "- \"nome\" é o nome da função e obedece às regras para os nomes das variáveis.\n",
    "- \"a\" é um argumento que é passado para ser processado pela função.\n",
    "- a função return só é utilizada caso seja necessário armazenar algum valor na função em questão.\n",
    " \n",
    "\n",
    "[CF] A forma de chamar uma função em Python é a seguinte:\n",
    "\n",
    "    variavel = nome(b)\n",
    "\n",
    "sendo que:\n",
    "\n",
    "-\"nome\" é o nome da função criada.\n",
    "- \"b\" é um argumento.\n",
    " \n",
    "[E] Exemplo."
   ]
  },
  {
   "cell_type": "code",
   "execution_count": 17,
   "id": "f2596ddc",
   "metadata": {},
   "outputs": [
    {
     "name": "stdout",
     "output_type": "stream",
     "text": [
      "Digite o valor do raio em metros: 4\n",
      "Digite a altura do cilindro em metros: 5\n",
      "251.32000000000002\n"
     ]
    }
   ],
   "source": [
    "def volume(r, h):\n",
    "    volume = 3.1415*(r**2)*h\n",
    "    return volume\n",
    "\n",
    "r = float(input(\"Digite o valor do raio em metros: \"))\n",
    "h = float(input(\"Digite a altura do cilindro em metros: \"))\n",
    "print(volume(r, h))"
   ]
  },
  {
   "cell_type": "markdown",
   "id": "1416a4af",
   "metadata": {},
   "source": [
    "## 10.5. Importando Funções"
   ]
  },
  {
   "cell_type": "markdown",
   "id": "5923c6b0",
   "metadata": {},
   "source": [
    "[C] Além das funções intrínsecas do Python e das criadas pelo próprio programador, o mesmo pode se beneficiar de bibliotecas de funções já criadas por outros programadores.\n",
    "\n",
    "[C] Para tal, em Python utiliza-se a função import.\n",
    "\n",
    "[C] Desde que as funções estejam instaladas no seu ambiente de desenvolvimento, o Python será capaz de importar estas bibliotecas. Caso não estejam, o download das bibliotecas pode ser feito utilizando os comandos $pip$ $install$ $\"biblioteca\"$ no terminal (prompt de comando).\n",
    "\n",
    "[C] As bibliotecas podem ter as suas \"chamadas\" encurtadas utilizando o comando $as$ a seguir. Ele nada mais faz do que renomear as funções importadas. Veja os exemplos abaixo para entender melhor.\n",
    "\n",
    "[C] A quantidade de bibliotecas disponíveis, assim como o grande número de tarefas as quais estas realizam é um dos grandes trunfos da linguagem Python, e um dos principais motivos para a sua popularização.\n",
    "\n",
    "[C] Algumas bibliotecas famosas são o Numpy e Scipy (Utilizadas para ciência e matemática), Pandas (Para lidar com dados), Matplotlib (para plotar gráficos), Pygame (para o desenvolvimento de jogos), etc.\n",
    "\n",
    "[E] Observe alguns exemplos a seguir:"
   ]
  },
  {
   "cell_type": "markdown",
   "id": "198129a1",
   "metadata": {},
   "source": [
    "Importando cosseno, e o valor de $\\pi$"
   ]
  },
  {
   "cell_type": "code",
   "execution_count": 22,
   "id": "f4276f80",
   "metadata": {},
   "outputs": [
    {
     "name": "stdout",
     "output_type": "stream",
     "text": [
      "-1.0\n"
     ]
    }
   ],
   "source": [
    "import numpy\n",
    "print(numpy.cos(numpy.pi))"
   ]
  },
  {
   "cell_type": "code",
   "execution_count": 23,
   "id": "ee2c3553",
   "metadata": {},
   "outputs": [
    {
     "name": "stdout",
     "output_type": "stream",
     "text": [
      "-1.0\n"
     ]
    }
   ],
   "source": [
    "import numpy as np\n",
    "print(np.cos(np.pi))"
   ]
  },
  {
   "cell_type": "markdown",
   "id": "064ec4b5",
   "metadata": {},
   "source": [
    "Importando uma função para raiz quadrada."
   ]
  },
  {
   "cell_type": "code",
   "execution_count": 24,
   "id": "497471e3",
   "metadata": {},
   "outputs": [
    {
     "data": {
      "text/plain": [
       "2.0"
      ]
     },
     "execution_count": 24,
     "metadata": {},
     "output_type": "execute_result"
    }
   ],
   "source": [
    "print(np.sqrt(4))"
   ]
  }
 ],
 "metadata": {
  "kernelspec": {
   "display_name": "Python 3 (ipykernel)",
   "language": "python",
   "name": "python3"
  },
  "language_info": {
   "codemirror_mode": {
    "name": "ipython",
    "version": 3
   },
   "file_extension": ".py",
   "mimetype": "text/x-python",
   "name": "python",
   "nbconvert_exporter": "python",
   "pygments_lexer": "ipython3",
   "version": "3.9.7"
  }
 },
 "nbformat": 4,
 "nbformat_minor": 5
}
