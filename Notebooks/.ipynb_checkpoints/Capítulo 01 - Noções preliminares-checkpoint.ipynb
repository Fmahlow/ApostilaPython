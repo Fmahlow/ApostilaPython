{
 "cells": [
  {
   "cell_type": "markdown",
   "id": "a9017703",
   "metadata": {},
   "source": [
    "# <center>Capítulo 1: Noções Preliminares\n"
   ]
  },
  {
   "cell_type": "markdown",
   "id": "3e749a1a",
   "metadata": {},
   "source": [
    "## 1.1. Introdução"
   ]
  },
  {
   "cell_type": "markdown",
   "id": "c130d983",
   "metadata": {},
   "source": [
    "[C] \"O que todo computador pode realmente fazer é seguir ordens muito simples, as quais foram cuidadosamente consideradas e refletidas por um programador e escritas em uma linguagem de programação, como Python.\""
   ]
  },
  {
   "cell_type": "markdown",
   "id": "3552fa2a",
   "metadata": {},
   "source": [
    "## 1.2. Computadores\n",
    "\n"
   ]
  },
  {
   "cell_type": "markdown",
   "id": "3718f9f6",
   "metadata": {},
   "source": [
    "[C] Há somente 4 tipos de instruções que um computador pode realizar:\n",
    "\n",
    "1. Armazenamento e recuperação de informações da memória;\n",
    "2. Cálculos;\n",
    "3. Entrada e saída de dados;\n",
    "4. Controle de programa.\n",
    "\n",
    "[C] Esquema de um computador:\n"
   ]
  },
  {
   "cell_type": "markdown",
   "id": "00b38068",
   "metadata": {},
   "source": [
    "<div><img src=\"imgs/esq_comp.gif\" width=\"400\" /></div>"
   ]
  },
  {
   "cell_type": "markdown",
   "id": "9d0be1b6",
   "metadata": {},
   "source": [
    "## 1.3. Algoritmos\n",
    "\n"
   ]
  },
  {
   "cell_type": "markdown",
   "id": "8fc525e9",
   "metadata": {},
   "source": [
    "[D] Um \"algoritmo\" é um conjunto de instruções passo-a-passo para resolver um problema.\n",
    " \n",
    "\n",
    "[D] Um algoritmo correto deve possuir 3 qualidades:\n",
    "\n",
    "1. Cada passo no algoritmo deve ser uma instrução que possa ser realizada.\n",
    "2. A ordem dos passos deve ser precisamente determinada.\n",
    "3. O algoritmo deve ter fim.\n",
    "\n",
    "[A] Elaboração em grupos de 3 de um algoritmo para que um dos elementos do grupo desempenhe a seguinte tarefa:\n",
    "* Sair de uma posição na sala de aula, que será determinada pelo professor,  até o interruptor das luzes e providenciar o desligamento destas.\n",
    "\n",
    "<div style=\"text-align: justify\"> \n",
    "As operações corporais possíveis devem ser determinadas antes do começo do trabalho em grupo, em conjunto entre os alunos e o professor. Após o término do trabalho dos grupos, o professor escolherá aleatoriamente trabalhos, os lerá em voz alta, determinando se os passos do algoritmo estão contidos no conjunto de operações permitidas. Se isto for verdade, um dos elementos do grupo lerá em voz alta os passos que serão executados por outro membro do grupo. Sugestões de operações permitidas: caminhar, girar o corpo (graus e sentido), levantamento de braço (graus e sentido), movimento de mão, cegueira do executor, etc.\n",
    "</div>"
   ]
  },
  {
   "cell_type": "markdown",
   "id": "51d732eb",
   "metadata": {},
   "source": [
    "## 1.4. Diagramas de Fluxo\n",
    "\n"
   ]
  },
  {
   "cell_type": "markdown",
   "id": "4f25c66b",
   "metadata": {},
   "source": [
    "[D] \"Diagramas de Fluxo\" fornecem uma representação gráfica de um algoritmo.\n",
    " \n",
    "\n",
    "[D] Principais símbolos de diagramas de fluxo:"
   ]
  },
  {
   "cell_type": "markdown",
   "id": "a5a06e47",
   "metadata": {},
   "source": [
    "<div><img src=\"imgs/fluxo.gif\" width=\"400\" /></div>"
   ]
  },
  {
   "cell_type": "markdown",
   "id": "8cf3091e",
   "metadata": {},
   "source": [
    "## 1.5. Linguagens de Programação\n",
    "\n"
   ]
  },
  {
   "cell_type": "markdown",
   "id": "b74c6d5f",
   "metadata": {},
   "source": [
    "[D] Um \"programa de computador\" é um algoritmo escrito numa linguagem de programação, como o Python.\n",
    " \n",
    "\n",
    "[C] Existem 3 níveis de linguagens de programação:\n",
    "\n",
    "1. Linguagens de baixo nível (ou de máquina).\n",
    "2. Linguagens de nível intermediário (ou simbólica montadora).\n",
    "3. Linguagens de alto nível (ou de compiladores)."
   ]
  },
  {
   "cell_type": "markdown",
   "id": "78c0c4be",
   "metadata": {},
   "source": [
    "## 1.5.1 Linguagem de Máquina\n",
    "\n"
   ]
  },
  {
   "cell_type": "markdown",
   "id": "9c95ba27",
   "metadata": {},
   "source": [
    "[D] Cada instrução é constituída de 2 partes:\n",
    "\n",
    "<center><table BORDER BORDERCOLOR=\"#000000\" >\n",
    "<tr>\n",
    "<td WIDTH=\"196\">c&oacute;digo de opera&ccedil;&atilde;o</td>\n",
    "\n",
    "<td WIDTH=\"106\"><font face=\"Times New Roman\">operando(s)</font></td>\n",
    "</tr>\n",
    "</table></center>\n",
    "\n",
    "[D] O \"código de operação\" instrui o computador para realizar uma função específica: adição, subtração, leitura, escrita, comparação, movimento de dados, etc...\n",
    " \n",
    "\n",
    "[D] O(s) operando(s) especifica(m) o endereço do dado a ser operado, endereço do dispositivo de entrada/saída, etc...\n",
    " \n",
    "\n",
    "[E] Exemplo do trecho principal de um programa em linguagem de máquina para calcular\n",
    "R = ((5A+16B)/C) - D, onde os valores de A, B, C, D e R estão armazenados nos endereços 1000, 1004, 1012, 1020 e 2050 da memória."
   ]
  },
  {
   "cell_type": "markdown",
   "id": "142bd017",
   "metadata": {},
   "source": [
    "<table BORDER BORDERCOLOR=\"#000000\" >\n",
    "<tr>\n",
    "<td WIDTH=\"154\">\n",
    "<center><font face=\"Times New Roman\">C&oacute;digo da Opera&ccedil;&atilde;o</font></center>\n",
    "</td>\n",
    "\n",
    "<td WIDTH=\"85\">\n",
    "<center><font face=\"Times New Roman\">Operando</font></center>\n",
    "</td>\n",
    "\n",
    "<td WIDTH=\"336\">\n",
    "<center><font face=\"Times New Roman\">Coment&aacute;rio</font></center>\n",
    "</td>\n",
    "</tr>\n",
    "\n",
    "<tr>\n",
    "<td WIDTH=\"154\">\n",
    "<center><font face=\"Times New Roman\">14</font></center>\n",
    "</td>\n",
    "\n",
    "<td WIDTH=\"85\">\n",
    "<center><font face=\"Times New Roman\">1000</font></center>\n",
    "</td>\n",
    "\n",
    "<td WIDTH=\"336\"><font face=\"Times New Roman\">carrega A no acumulador</font></td>\n",
    "</tr>\n",
    "\n",
    "<tr>\n",
    "<td WIDTH=\"154\">\n",
    "<center><font face=\"Times New Roman\">12</font></center>\n",
    "</td>\n",
    "\n",
    "<td WIDTH=\"85\">\n",
    "<center><font face=\"Times New Roman\">=5</font></center>\n",
    "</td>\n",
    "\n",
    "<td WIDTH=\"336\"><font face=\"Times New Roman\">multiplica o acumulador por\n",
    "5</font></td>\n",
    "</tr>\n",
    "\n",
    "<tr>\n",
    "<td WIDTH=\"154\">\n",
    "<center><font face=\"Times New Roman\">15</font></center>\n",
    "</td>\n",
    "\n",
    "<td WIDTH=\"85\">\n",
    "<center><font face=\"Times New Roman\">3000</font></center>\n",
    "</td>\n",
    "\n",
    "<td WIDTH=\"336\"><font face=\"Times New Roman\">armazena conte&uacute;do acumulado\n",
    "no endere&ccedil;o 3000</font></td>\n",
    "</tr>\n",
    "\n",
    "<tr>\n",
    "<td WIDTH=\"154\">\n",
    "<center><font face=\"Times New Roman\">14</font></center>\n",
    "</td>\n",
    "\n",
    "<td WIDTH=\"85\">\n",
    "<center><font face=\"Times New Roman\">1004</font></center>\n",
    "</td>\n",
    "\n",
    "<td WIDTH=\"336\"><font face=\"Times New Roman\">carrega B no acumulador</font></td>\n",
    "</tr>\n",
    "\n",
    "<tr>\n",
    "<td WIDTH=\"154\">\n",
    "<center><font face=\"Times New Roman\">12</font></center>\n",
    "</td>\n",
    "\n",
    "<td WIDTH=\"85\">\n",
    "<center><font face=\"Times New Roman\">=16</font></center>\n",
    "</td>\n",
    "\n",
    "<td WIDTH=\"336\"><font face=\"Times New Roman\">multiplica acumulador por\n",
    "16</font></td>\n",
    "</tr>\n",
    "\n",
    "<tr>\n",
    "<td WIDTH=\"154\">\n",
    "<center><font face=\"Times New Roman\">10</font></center>\n",
    "</td>\n",
    "\n",
    "<td WIDTH=\"85\">\n",
    "<center><font face=\"Times New Roman\">3000</font></center>\n",
    "</td>\n",
    "\n",
    "<td WIDTH=\"336\"><font face=\"Times New Roman\">adiciona acumulador com conte&uacute;do\n",
    "de 3000</font></td>\n",
    "</tr>\n",
    "\n",
    "<tr>\n",
    "<td WIDTH=\"154\">\n",
    "<center><font face=\"Times New Roman\">13</font></center>\n",
    "</td>\n",
    "\n",
    "<td WIDTH=\"85\">\n",
    "<center><font face=\"Times New Roman\">1012</font></center>\n",
    "</td>\n",
    "\n",
    "<td WIDTH=\"336\"><font face=\"Times New Roman\">divide acumulador pelo conte&uacute;do\n",
    "de 1012</font></td>\n",
    "</tr>\n",
    "\n",
    "<tr>\n",
    "<td WIDTH=\"154\">\n",
    "<center><font face=\"Times New Roman\">11</font></center>\n",
    "</td>\n",
    "\n",
    "<td WIDTH=\"85\">\n",
    "<center><font face=\"Times New Roman\">1020</font></center>\n",
    "</td>\n",
    "\n",
    "<td WIDTH=\"336\"><font face=\"Times New Roman\">subtrai do acumulador o conte&uacute;do\n",
    "de 1020</font></td>\n",
    "</tr>\n",
    "\n",
    "<tr>\n",
    "<td WIDTH=\"154\">\n",
    "<center><font face=\"Times New Roman\">15</font></center>\n",
    "</td>\n",
    "\n",
    "<td WIDTH=\"85\">\n",
    "<center><font face=\"Times New Roman\">2050</font></center>\n",
    "</td>\n",
    "\n",
    "<td WIDTH=\"336\"><font face=\"Times New Roman\">armazena acumulador em 2050</font></td>\n",
    "</tr>\n",
    "</table>"
   ]
  },
  {
   "cell_type": "markdown",
   "id": "0acfb8bb",
   "metadata": {},
   "source": [
    "[C] Na realidade, um programa real em linguagem de máquina, para ser compreendido por ela, geralmente é escrito no sistema binário.\n",
    " "
   ]
  },
  {
   "cell_type": "markdown",
   "id": "b36bda92",
   "metadata": {},
   "source": [
    "## 1.5.2. Linguagem Simbólica Montadora"
   ]
  },
  {
   "cell_type": "markdown",
   "id": "f83575b2",
   "metadata": {},
   "source": [
    "[C] As linguagens simbólicas procuram facilitar a tarefa do programador, criando mnemônicos para as operações.\n",
    " \n",
    "\n",
    "[C] Os programas montadores traduzem um programa fonte (ou seja, em linguagem simbólica) em um programa objeto (ou seja, em linguagem de máquina).\n",
    "\n",
    "[E] O trecho de programa visto acima, ficaria em uma linguagem simbólica parecido com:\n"
   ]
  },
  {
   "cell_type": "markdown",
   "id": "4b012f0a",
   "metadata": {},
   "source": [
    "<table BORDER BORDERCOLOR=\"#000000\" >\n",
    "<tr>\n",
    "<td WIDTH=\"92\">\n",
    "<center><font face=\"Times New Roman\">Opera&ccedil;&atilde;o</font></center>\n",
    "</td>\n",
    "\n",
    "<td WIDTH=\"104\">\n",
    "<center><font face=\"Times New Roman\">Operando</font></center>\n",
    "</td>\n",
    "\n",
    "<td WIDTH=\"410\"><font face=\"Times New Roman\">Coment&aacute;rio</font></td>\n",
    "</tr>\n",
    "\n",
    "<tr>\n",
    "<td WIDTH=\"92\">\n",
    "<center><font face=\"Times New Roman\">CAR</font></center>\n",
    "</td>\n",
    "\n",
    "<td WIDTH=\"104\">\n",
    "<center><font face=\"Times New Roman\">A</font></center>\n",
    "</td>\n",
    "\n",
    "<td WIDTH=\"410\"><font face=\"Times New Roman\">carrega A</font></td>\n",
    "</tr>\n",
    "\n",
    "<tr>\n",
    "<td WIDTH=\"92\">\n",
    "<center><font face=\"Times New Roman\">MUL</font></center>\n",
    "</td>\n",
    "\n",
    "<td WIDTH=\"104\">\n",
    "<center><font face=\"Times New Roman\">5</font></center>\n",
    "</td>\n",
    "\n",
    "<td WIDTH=\"410\"><font face=\"Times New Roman\">multiplica por 5</font></td>\n",
    "</tr>\n",
    "\n",
    "<tr>\n",
    "<td WIDTH=\"92\">\n",
    "<center><font face=\"Times New Roman\">ARM</font></center>\n",
    "</td>\n",
    "\n",
    "<td WIDTH=\"104\">\n",
    "<center><font face=\"Times New Roman\">TMP</font></center>\n",
    "</td>\n",
    "\n",
    "<td WIDTH=\"410\"><font face=\"Times New Roman\">armazena o resultado em TMP</font></td>\n",
    "</tr>\n",
    "\n",
    "<tr>\n",
    "<td WIDTH=\"92\">\n",
    "<center><font face=\"Times New Roman\">CAR</font></center>\n",
    "</td>\n",
    "\n",
    "<td WIDTH=\"104\">\n",
    "<center><font face=\"Times New Roman\">B</font></center>\n",
    "</td>\n",
    "\n",
    "<td WIDTH=\"410\"><font face=\"Times New Roman\">carrega B</font></td>\n",
    "</tr>\n",
    "\n",
    "<tr>\n",
    "<td WIDTH=\"92\">\n",
    "<center><font face=\"Times New Roman\">MUL</font></center>\n",
    "</td>\n",
    "\n",
    "<td WIDTH=\"104\">\n",
    "<center><font face=\"Times New Roman\">16</font></center>\n",
    "</td>\n",
    "\n",
    "<td WIDTH=\"410\"><font face=\"Times New Roman\">multiplica por 16</font></td>\n",
    "</tr>\n",
    "\n",
    "<tr>\n",
    "<td WIDTH=\"92\">\n",
    "<center><font face=\"Times New Roman\">ADI</font></center>\n",
    "</td>\n",
    "\n",
    "<td WIDTH=\"104\">\n",
    "<center><font face=\"Times New Roman\">TMP</font></center>\n",
    "</td>\n",
    "\n",
    "<td WIDTH=\"410\"><font face=\"Times New Roman\">adiciona o resultado com o\n",
    "conte&uacute;do de TMP</font></td>\n",
    "</tr>\n",
    "\n",
    "<tr>\n",
    "<td WIDTH=\"92\">\n",
    "<center><font face=\"Times New Roman\">DIV</font></center>\n",
    "</td>\n",
    "\n",
    "<td WIDTH=\"104\">\n",
    "<center><font face=\"Times New Roman\">C</font></center>\n",
    "</td>\n",
    "\n",
    "<td WIDTH=\"410\"><font face=\"Times New Roman\">divide o resultado por C</font></td>\n",
    "</tr>\n",
    "\n",
    "<tr>\n",
    "<td WIDTH=\"92\">\n",
    "<center><font face=\"Times New Roman\">SUB</font></center>\n",
    "</td>\n",
    "\n",
    "<td WIDTH=\"104\">\n",
    "<center><font face=\"Times New Roman\">D</font></center>\n",
    "</td>\n",
    "\n",
    "<td WIDTH=\"410\"><font face=\"Times New Roman\">subtrai o resultado de D</font></td>\n",
    "</tr>\n",
    "\n",
    "<tr>\n",
    "<td WIDTH=\"92\">\n",
    "<center><font face=\"Times New Roman\">ARM</font></center>\n",
    "</td>\n",
    "\n",
    "<td WIDTH=\"104\">\n",
    "<center><font face=\"Times New Roman\">R</font></center>\n",
    "</td>\n",
    "\n",
    "<td WIDTH=\"410\"><font face=\"Times New Roman\">armazena o resultado em R</font></td>\n",
    "</tr>\n",
    "</table>"
   ]
  },
  {
   "cell_type": "markdown",
   "id": "8d35e6d8",
   "metadata": {},
   "source": [
    "## 1.5.3. Linguagens de Compiladores"
   ]
  },
  {
   "cell_type": "markdown",
   "id": "40572b3b",
   "metadata": {},
   "source": [
    "[C] Uma linguagem de compilador (ou de alto nível) tem por objetivo permitir ao programador se utilizar de uma linguagem muito próxima àquela utilizada no ambiente no qual se coloca a tarefa a ser realizada.\n",
    " \n",
    "\n",
    "[C] Os programas compiladores traduzem um programa fonte, escritos em uma linguagem de alto nível, em um programa objeto em linguagem de máquina.\n",
    " \n",
    "\n",
    "[E] O trecho de programa visto acima, ficaria na linguagem de alto nível Python idêntico a:\n",
    "\n",
    "$R = ((5.0*A + 16.0*B) / C) - D$\n",
    "\n",
    "[C] Etapas do processamento de um programa em linguagem de alto nível:"
   ]
  },
  {
   "cell_type": "markdown",
   "id": "733b5df3",
   "metadata": {},
   "source": [
    "<div><img src=\"imgs/etapas.jpg\" width=\"400\" /></div>\n",
    "\n",
    "*Python especificamente se trata de uma linguagem interpretada, então existem pequenas diferenças com relação ao fluxograma acima."
   ]
  },
  {
   "cell_type": "markdown",
   "id": "92971949",
   "metadata": {},
   "source": [
    "## 1.6.Passos no Desenvolvimento de Programas\n"
   ]
  },
  {
   "cell_type": "markdown",
   "id": "e021b5b8",
   "metadata": {},
   "source": [
    "<div><img src=\"imgs/passos.gif\" width=\"400\" /></div>"
   ]
  }
 ],
 "metadata": {
  "kernelspec": {
   "display_name": "Python 3 (ipykernel)",
   "language": "python",
   "name": "python3"
  },
  "language_info": {
   "codemirror_mode": {
    "name": "ipython",
    "version": 3
   },
   "file_extension": ".py",
   "mimetype": "text/x-python",
   "name": "python",
   "nbconvert_exporter": "python",
   "pygments_lexer": "ipython3",
   "version": "3.9.7"
  }
 },
 "nbformat": 4,
 "nbformat_minor": 5
}
