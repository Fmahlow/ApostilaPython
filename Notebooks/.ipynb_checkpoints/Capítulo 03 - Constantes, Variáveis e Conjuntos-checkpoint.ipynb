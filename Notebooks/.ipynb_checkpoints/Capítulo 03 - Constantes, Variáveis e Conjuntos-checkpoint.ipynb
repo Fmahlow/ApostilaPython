{
 "cells": [
  {
   "cell_type": "markdown",
   "id": "680a4bdc",
   "metadata": {},
   "source": [
    "# <center>Capítulo 3: Constantes, Variáveis e Conjuntos\n"
   ]
  },
  {
   "cell_type": "markdown",
   "id": "7ae57f22",
   "metadata": {},
   "source": [
    "## 3.1 Introdução\n",
    "\n"
   ]
  },
  {
   "cell_type": "markdown",
   "id": "e095bffd",
   "metadata": {},
   "source": [
    "[C] Este capítulo trata de definir corretamente os componentes básicos dos comandos em Python. Alguns já vimos no capítulo anterior, como \"itens de sintaxe\".\n",
    " \n",
    "\n",
    "[D] \"Constantes\" são valores fixos, tais como números. Estes valores não podem ser alterados pelos comandos do programa. Exemplos: 3.0, 3, 'palavra'.\n",
    " \n",
    "\n",
    "[C] \"Variáveis\" são nomes simbólicos que representam valores armazenados na memória do computador. Estes valores podem ser alterados pelos comandos do programa.\n",
    "\n",
    "\n",
    "[D] \"Conjuntos\" são grupos de variáveis, cujos valores são armazenados adjacentemente e podem ser referenciados individualmente através de um nome simbólico com um índice. São conhecidos também como \"variáveis indexadas\" (VI).\n",
    "\n",
    "\n",
    "[D] Um \"operador\" é um símbolo específico para uma determinada operação. Exemplo: + (soma).\n",
    " \n",
    "\n",
    "[D] \"Expressões\" são combinações de constantes, variáveis, elementos de conjuntos e operadores. Exemplo: 3.0*var1+var2.\n",
    " \n",
    "\n",
    "[E] No \"comando de atribuição\" abaixo:\n",
    "\n",
    "$fat = 3 * 4 * (B + 2.5)$\n",
    "\n",
    "temos a \"expressão\" $3*4*(B+2.5)$. Nesta expressão temos três \"constantes\" (3, 4 e 2.5), uma \"variável\" (B), dois \"operadores\" (* e +) e parênteses. Vemos também que temos duas constante inteiras (3 e 4) e uma real (2.5); a variável B depende de como tenha sido definida.\n",
    "\n",
    "[E] No trecho de programa abaixo:"
   ]
  },
  {
   "cell_type": "code",
   "execution_count": 11,
   "id": "371742a2",
   "metadata": {},
   "outputs": [
    {
     "name": "stdout",
     "output_type": "stream",
     "text": [
      "Digite a velocidade inicial: 5\n",
      "[0.0, 0.45099999999999996, 0.8039999999999999, 1.0590000000000002, 1.2159999999999997] [0.0, 0.1, 0.2, 0.30000000000000004, 0.4]\n"
     ]
    }
   ],
   "source": [
    "v0y = float(input(\"Digite a velocidade inicial: \"))\n",
    "g = 9.8\n",
    "dt = 0.1\n",
    "t = list()\n",
    "y = list()\n",
    "for i in range(0, 5):\n",
    "    t.append(i*dt)\n",
    "    y.append(v0y*t[i] - 0.5*g*t[i]**2)\n",
    "print(y, t)"
   ]
  },
  {
   "cell_type": "markdown",
   "id": "31e8840b",
   "metadata": {},
   "source": [
    "vemos o uso das \"variáveis indexadas\" t(i) e y(i).\n"
   ]
  },
  {
   "cell_type": "markdown",
   "id": "d14ad140",
   "metadata": {},
   "source": [
    "## 3.2. Constantes\n",
    "\n"
   ]
  },
  {
   "cell_type": "markdown",
   "id": "5809d491",
   "metadata": {},
   "source": [
    "[D] Uma \"constante\" é uma quantidade fixa e invariável.\n",
    " \n",
    "\n",
    "[D] O Python distingue três classes de constantes: numéricas, lógicas e cadeias de caracteres.\n",
    " \n",
    "\n",
    "[D] As constantes numéricas que mais nos interessam são:\n",
    "\n",
    "- Inteiras: para números inteiros decimais (escritos sem o ponto decimal).\n",
    "- Reais: para números decimais (ou fracionários).\n",
    "- Complexos: para números complexos.\n",
    " \n",
    "\n",
    "[D] As constantes booleanas (lógicas) podem ser:\n",
    "\n",
    "- True : representa o valor \"verdade\".\n",
    "- False : representa o valor \"falso\".\n",
    "\n",
    "[D] As constantes Strings (cadeias de caracteres) são uma seqüência de caracteres alfanuméricos e/ou especiais sempre entre aspas.\n",
    " \n",
    "\n",
    "[C] Podemos ainda, armazenar conjuntos de constantes ou mesmo variáveis, utilizando listas, tuplas ou dicionários."
   ]
  },
  {
   "cell_type": "markdown",
   "id": "e800888b",
   "metadata": {},
   "source": [
    "### 3.3. Variáveis\n",
    "\n"
   ]
  },
  {
   "cell_type": "markdown",
   "id": "75761ba6",
   "metadata": {},
   "source": [
    "[D] Uma variável possui um nome e um tipo, podendo assumir diversos valores.\n",
    " \n",
    "\n",
    "[D] Regras para nomes de variáveis:\n",
    "\n",
    "1. Os nomes devem começar com uma letra ou caractere especial.\n",
    "2. Os nomes podem conter letras e dígitos.\n",
    "\n",
    "[D] Tipos de variáveis: inteiras, reais, complexas, lógicas e strings, que possuem características similares às constantes."
   ]
  },
  {
   "cell_type": "markdown",
   "id": "be97255d",
   "metadata": {},
   "source": [
    "### 3.4. Conjuntos\n",
    "\n"
   ]
  },
  {
   "cell_type": "markdown",
   "id": "84c7c8a9",
   "metadata": {},
   "source": [
    "[C] Nesta seção nos ocuparemos dos conjuntos de variáveis, ou variáveis indexadas (VI), já definidos no início deste capítulo.\n",
    " \n",
    "\n",
    "[C] Uma VI possui um nome, um tipo e um conjunto de índices (ou um único índice).\n",
    " \n",
    "\n",
    "[D] \"Vetor\" é uma VI que possui um único índice, e por isto é dito uma VI unidimensional.\n",
    " \n",
    "\n",
    "[E] A variável t no trecho de programa abaixo é um vetor:"
   ]
  },
  {
   "cell_type": "code",
   "execution_count": 15,
   "id": "251edaf2",
   "metadata": {},
   "outputs": [
    {
     "name": "stdout",
     "output_type": "stream",
     "text": [
      "[0.1, 0.2, 0.3, 0.30000000000000004, 0.4]\n"
     ]
    }
   ],
   "source": [
    "t[0] = 0.1 \n",
    "t[1] = 0.2 \n",
    "t[2] = 0.3 \n",
    "print(t)"
   ]
  },
  {
   "cell_type": "markdown",
   "id": "488ca715",
   "metadata": {},
   "source": [
    "[D] \"Matriz\" é uma VI que possui dois conjuntos de índices e por isto é dita bidimensional.\n",
    " \n",
    "\n",
    "[E] A variável a no trecho de programa abaixo é uma \"lista de listas\", que representa uma matriz:"
   ]
  },
  {
   "cell_type": "code",
   "execution_count": 19,
   "id": "ea3f427a",
   "metadata": {},
   "outputs": [
    {
     "name": "stdout",
     "output_type": "stream",
     "text": [
      "0\n",
      "1\n",
      "2\n",
      "1\n",
      "2\n",
      "3\n",
      "2\n",
      "3\n",
      "4\n"
     ]
    }
   ],
   "source": [
    "a = [[0, 1, 2], [1, 2, 3], [2, 3, 4]]\n",
    "for i in range(0, 3):\n",
    "    for j in range(0, 3):\n",
    "        print(a[i][j])"
   ]
  },
  {
   "cell_type": "markdown",
   "id": "fc869a93",
   "metadata": {},
   "source": [
    "- Representação Matricial da variável a:"
   ]
  },
  {
   "cell_type": "markdown",
   "id": "bf60af39",
   "metadata": {},
   "source": [
    "<div><img src=\"imgs/matriz.gif\" width=\"100\" /></div>"
   ]
  },
  {
   "cell_type": "markdown",
   "id": "2fb40ae0",
   "metadata": {},
   "source": [
    "- Forma de armazenamento na memória:\n"
   ]
  },
  {
   "cell_type": "markdown",
   "id": "77bacdaf",
   "metadata": {},
   "source": [
    "<table border=\"\" cols=\"11\" width=\"100%\" nosave=\"\">\n",
    "<tbody><tr nosave=\"\">\n",
    "<td>...</td>\n",
    "\n",
    "<td><font face=\"Times New Roman\">a<sub>11&nbsp;</sub></font></td>\n",
    "\n",
    "<td><font face=\"Times New Roman\">a<sub>21</sub></font></td>\n",
    "\n",
    "<td><font face=\"Times New Roman\">a<sub>31</sub></font></td>\n",
    "\n",
    "<td><font face=\"Times New Roman\"><sub>&nbsp;\n",
    "</sub>a<sub>12</sub></font></td>\n",
    "\n",
    "<td><font face=\"Times New Roman\">a<sub>22</sub></font></td>\n",
    "\n",
    "<td><font face=\"Times New Roman\">a<sub>32</sub></font></td>\n",
    "\n",
    "<td><font face=\"Times New Roman\">a<sub>13</sub></font></td>\n",
    "\n",
    "<td><font face=\"Times New Roman\">a<sub>23</sub></font></td>\n",
    "\n",
    "<td><font face=\"Times New Roman\">a<sub>33</sub></font></td>\n",
    "\n",
    "<td nosave=\"\">...</td>\n",
    "</tr>\n",
    "</tbody></table>"
   ]
  },
  {
   "cell_type": "markdown",
   "id": "d137d1f3",
   "metadata": {},
   "source": [
    "[D] Dizemos que uma VI é uma matriz n-dimensional quando esta possui um conjunto de n índices."
   ]
  }
 ],
 "metadata": {
  "kernelspec": {
   "display_name": "Python 3 (ipykernel)",
   "language": "python",
   "name": "python3"
  },
  "language_info": {
   "codemirror_mode": {
    "name": "ipython",
    "version": 3
   },
   "file_extension": ".py",
   "mimetype": "text/x-python",
   "name": "python",
   "nbconvert_exporter": "python",
   "pygments_lexer": "ipython3",
   "version": "3.9.7"
  }
 },
 "nbformat": 4,
 "nbformat_minor": 5
}
