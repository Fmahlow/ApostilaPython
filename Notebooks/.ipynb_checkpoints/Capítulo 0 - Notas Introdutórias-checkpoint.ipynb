{
 "cells": [
  {
   "cell_type": "markdown",
   "id": "dc804125",
   "metadata": {},
   "source": [
    "# <center>Capítulo 0: Notas Introdutórias\n"
   ]
  },
  {
   "cell_type": "markdown",
   "id": "e2980b85",
   "metadata": {},
   "source": [
    "[D] Convenções usadas nestas notas:\n",
    "\n",
    "* [D] Definição.\n",
    "* [C] Comentário.\n",
    "* [CP] Comando Python.\n",
    "* [SO] Comando do Sistema Operacional usado.\n",
    "* [ET] Comando de edição do editor de texto usado.\n",
    "* [E] Exemplo.\n",
    "* [P] Problema.\n",
    "* [A] Atividade.\n",
    "* [G] Gíria da área (jargão).\n",
    "* $<$tecla$>$ significa uma dada tecla que deve ser pressionada.\n",
    "    \n",
    "[C] \"comandos que você deve digitar\" estarão sempre entre aspas."
   ]
  }
 ],
 "metadata": {
  "kernelspec": {
   "display_name": "Python 3 (ipykernel)",
   "language": "python",
   "name": "python3"
  },
  "language_info": {
   "codemirror_mode": {
    "name": "ipython",
    "version": 3
   },
   "file_extension": ".py",
   "mimetype": "text/x-python",
   "name": "python",
   "nbconvert_exporter": "python",
   "pygments_lexer": "ipython3",
   "version": "3.9.7"
  }
 },
 "nbformat": 4,
 "nbformat_minor": 5
}
