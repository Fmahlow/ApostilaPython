{
 "cells": [
  {
   "cell_type": "markdown",
   "id": "7f1c474a",
   "metadata": {},
   "source": [
    "# <center>Capítulo 10: Comando FORMAT e Especificações de Formato\n"
   ]
  },
  {
   "cell_type": "markdown",
   "id": "7a669fc4",
   "metadata": {},
   "source": [
    "## 10.1. Introdução\n",
    "\n"
   ]
  },
  {
   "cell_type": "markdown",
   "id": "ac641d21",
   "metadata": {},
   "source": [
    "[D] FORMAT é o comando que contém uma lista de especificações de formato que permite ao programador ter controle sobre os dados de entrada e saída.\n",
    " \n",
    "\n",
    "[E] Exemplo do uso de um comando de formatação:"
   ]
  },
  {
   "cell_type": "code",
   "execution_count": 22,
   "id": "561a5f82",
   "metadata": {},
   "outputs": [
    {
     "name": "stdout",
     "output_type": "stream",
     "text": [
      "Meu nome é Felipe, Eu peso 72.00 Kg\n"
     ]
    }
   ],
   "source": [
    "print(\"Meu nome é {}, Eu peso {:.2f} Kg\".format(\"Felipe\", 72))"
   ]
  },
  {
   "cell_type": "markdown",
   "id": "8f6aaf86",
   "metadata": {},
   "source": [
    "[C] Os valores contidos dentro do format() devem substituir as chaves na expressão acima. Dentro das chaves, pode-se colocar parâmetros para formatar as variáveis como desejado. No exemplo acima, :.2f define que o valor será um float (real) com duas casas após a vírgula."
   ]
  },
  {
   "cell_type": "markdown",
   "id": "6c51f2a0",
   "metadata": {},
   "source": [
    "## 10.2. Especificações de Formato (EF) de Conversão\n",
    "\n"
   ]
  },
  {
   "cell_type": "markdown",
   "id": "c2d22714",
   "metadata": {},
   "source": [
    "[C] Para ter acesso à todos os formatos de conversão possíveis, acesse a documentação da função format(). \n",
    "https://python-reference.readthedocs.io/en/latest/docs/str/format.html"
   ]
  },
  {
   "cell_type": "code",
   "execution_count": 33,
   "id": "aa5b6849",
   "metadata": {},
   "outputs": [
    {
     "name": "stdout",
     "output_type": "stream",
     "text": [
      "binário de var1 = 1101111, var2 = 222.2, +var3 = +3, %var4 = 4444.000000%\n"
     ]
    }
   ],
   "source": [
    "var1 = 111\n",
    "var2 = 222.22\n",
    "var3 = 3\n",
    "var4 = 44.44\n",
    "print(\"binário de var1 = {:b}, var2 = {:.1f}, +var3 = {:+}, %var4 = {:%}\".format(var1, var2, var3, var4))"
   ]
  },
  {
   "cell_type": "markdown",
   "id": "8ed6601b",
   "metadata": {},
   "source": [
    "## 10.3. Especificações de Espaçamento\n",
    "\n"
   ]
  },
  {
   "cell_type": "markdown",
   "id": "80c7bed3",
   "metadata": {},
   "source": [
    "[D] As especificações de edição mais usadas no Python são:\n",
    "\n"
   ]
  },
  {
   "cell_type": "markdown",
   "id": "36760ff7",
   "metadata": {},
   "source": [
    "<p><font face=\"Times New Roman\">Especificação&nbsp;&nbsp;&nbsp;&nbsp;&nbsp;\n",
    "Função</font>\n",
    "<br><font face=\"Times New Roman\">--------------------------------------</font>\n",
    "<br><font face=\"Times New Roman\">\\t &nbsp;&nbsp;&nbsp;&nbsp;&nbsp;&nbsp;&nbsp;&nbsp;&nbsp;&nbsp;&nbsp;&nbsp;&nbsp;&nbsp;&nbsp;&nbsp;&nbsp;&nbsp;&nbsp;&nbsp;\n",
    "espaçamento (pular coluna excel)</font>\n",
    "<br><font face=\"Times New Roman\">\\n&nbsp;&nbsp;&nbsp;&nbsp;&nbsp;&nbsp;&nbsp;&nbsp;&nbsp;&nbsp;&nbsp;&nbsp;&nbsp;&nbsp;&nbsp;&nbsp;&nbsp;&nbsp;&nbsp;&nbsp;&nbsp;&nbsp;&nbsp;&nbsp;&nbsp;\n",
    "nova linha</font>\n",
    "</p>\n",
    "\n",
    "[E] Exemplos:"
   ]
  },
  {
   "cell_type": "code",
   "execution_count": 38,
   "id": "a0c27894",
   "metadata": {},
   "outputs": [
    {
     "name": "stdout",
     "output_type": "stream",
     "text": [
      "Olá!\n",
      " tudo bem?\n"
     ]
    }
   ],
   "source": [
    "print(\"Olá!\\n tudo bem?\")"
   ]
  },
  {
   "cell_type": "code",
   "execution_count": 37,
   "id": "e01eccac",
   "metadata": {},
   "outputs": [
    {
     "name": "stdout",
     "output_type": "stream",
     "text": [
      "Olá! \t tudo bem?\n"
     ]
    }
   ],
   "source": [
    "print(\"Olá! \\t tudo bem?\")"
   ]
  }
 ],
 "metadata": {
  "kernelspec": {
   "display_name": "Python 3 (ipykernel)",
   "language": "python",
   "name": "python3"
  },
  "language_info": {
   "codemirror_mode": {
    "name": "ipython",
    "version": 3
   },
   "file_extension": ".py",
   "mimetype": "text/x-python",
   "name": "python",
   "nbconvert_exporter": "python",
   "pygments_lexer": "ipython3",
   "version": "3.9.7"
  }
 },
 "nbformat": 4,
 "nbformat_minor": 5
}
