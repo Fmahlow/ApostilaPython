{
 "cells": [
  {
   "cell_type": "markdown",
   "id": "c96d2926",
   "metadata": {},
   "source": [
    "# <center>Capítulo 5: Comandos de Atribuição\n",
    "\n"
   ]
  },
  {
   "cell_type": "markdown",
   "id": "6b1cdda9",
   "metadata": {},
   "source": [
    "## 5.1. Introdução\n",
    "\n",
    "\n",
    "\n"
   ]
  },
  {
   "cell_type": "markdown",
   "id": "8058d756",
   "metadata": {},
   "source": [
    "[D] O \"comando de atribuição\" é usado para atribuir um valor a (ou definir) uma variável ou a um elemento de conjunto.\n",
    " \n",
    "\n",
    "[C] Os comandos de atribuição calculam uma expressão e atribuem o valor resultante a uma variável ou elemento de conjunto.\n",
    " \n",
    "\n",
    "[D] A forma de um comando de atribuição é:\n",
    "\n",
    "    variável=expressão\n",
    " \n",
    "\n",
    "[D] Os comandos de atribuição são classificados como:\n",
    "\n",
    "* aritmético;\n",
    "* caractere;\n",
    "* lógico.\n",
    "\n",
    "[E] Exemplos:\n",
    "\n",
    "* aritmético: $varnum=3.0*a/b$\n",
    "* caractere: $varcar=\"palavra\"$\n",
    "* lógico: varlog=True ou $varlog=a<b$ $and$ $b==c$\n",
    "\n",
    "[C] Após o cálculo da expressão, o valor é convertido, se necessário, para o tipo de variável de acordo com a seguinte regra:"
   ]
  },
  {
   "cell_type": "markdown",
   "id": "2708f086",
   "metadata": {},
   "source": [
    "<p>Tipo da variável&nbsp;&nbsp;&nbsp;&nbsp;&nbsp;&nbsp;&nbsp;&nbsp;\n",
    "Valor atribuído\n",
    "<br>----------------------------------------------------------------\n",
    "<br>inteiro&nbsp;&nbsp;&nbsp;&nbsp;&nbsp;&nbsp;&nbsp;&nbsp;&nbsp;&nbsp;&nbsp;&nbsp;&nbsp;&nbsp;&nbsp;&nbsp;&nbsp;&nbsp;&nbsp;&nbsp;&nbsp;&nbsp;&nbsp;&nbsp;\n",
    "a parte inteira da expressão\n",
    "<br>real&nbsp;&nbsp;&nbsp;&nbsp;&nbsp;&nbsp;&nbsp;&nbsp;&nbsp;&nbsp;&nbsp;&nbsp;&nbsp;&nbsp;&nbsp;&nbsp;&nbsp;&nbsp;&nbsp;&nbsp;&nbsp;&nbsp;&nbsp;&nbsp;&nbsp;&nbsp;&nbsp;\n",
    "o valor real da expressão\n",
    "<br>complexo&nbsp;&nbsp;&nbsp;&nbsp;&nbsp;&nbsp;&nbsp;&nbsp;&nbsp;&nbsp;&nbsp;&nbsp;&nbsp;&nbsp;&nbsp;&nbsp;&nbsp;&nbsp;\n",
    "o valor complexo da expressão\n",
    "<br>&nbsp;\n",
    "\n",
    "\n",
    "</p>"
   ]
  }
 ],
 "metadata": {
  "kernelspec": {
   "display_name": "Python 3 (ipykernel)",
   "language": "python",
   "name": "python3"
  },
  "language_info": {
   "codemirror_mode": {
    "name": "ipython",
    "version": 3
   },
   "file_extension": ".py",
   "mimetype": "text/x-python",
   "name": "python",
   "nbconvert_exporter": "python",
   "pygments_lexer": "ipython3",
   "version": "3.9.7"
  }
 },
 "nbformat": 4,
 "nbformat_minor": 5
}
