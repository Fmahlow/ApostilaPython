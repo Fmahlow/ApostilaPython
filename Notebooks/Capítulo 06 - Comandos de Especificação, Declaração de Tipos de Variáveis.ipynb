{
 "cells": [
  {
   "cell_type": "markdown",
   "id": "5b695c66",
   "metadata": {},
   "source": [
    "# <center>Capítulo 6: Comandos de Especificação: Tipos de Variáveis\n"
   ]
  },
  {
   "cell_type": "markdown",
   "id": "cc8a407f",
   "metadata": {},
   "source": [
    "## 6.1. Introdução\n",
    "\n"
   ]
  },
  {
   "cell_type": "markdown",
   "id": "6c4a7d31",
   "metadata": {},
   "source": [
    "[D] Os comandos de declaração de tipo são: int(), float(), complex(), bool() e str().\n"
   ]
  },
  {
   "cell_type": "markdown",
   "id": "066b1580",
   "metadata": {},
   "source": [
    "## 6.2. Comandos de Especificação Explícita\n",
    "\n"
   ]
  },
  {
   "cell_type": "markdown",
   "id": "80d5bcfb",
   "metadata": {},
   "source": [
    "Podem ser utilizados para especificar ou converter tipos de variáveis, desde que logicamente possível."
   ]
  },
  {
   "cell_type": "markdown",
   "id": "f1325c6b",
   "metadata": {},
   "source": [
    "### 6.2.1. Comando INTEGER\n",
    "\n"
   ]
  },
  {
   "cell_type": "markdown",
   "id": "4637b3c8",
   "metadata": {},
   "source": [
    "[D] O comando int() é usado para especificar variáveis inteiras.\n",
    " \n",
    "\n",
    "[CF] A forma geral do comando INTEGER é:\n",
    "\n",
    "    int(valor)\n",
    " \n",
    "\n",
    "[E] Exemplos:"
   ]
  },
  {
   "cell_type": "code",
   "execution_count": 3,
   "id": "99b10d31",
   "metadata": {},
   "outputs": [
    {
     "data": {
      "text/plain": [
       "5"
      ]
     },
     "execution_count": 3,
     "metadata": {},
     "output_type": "execute_result"
    }
   ],
   "source": [
    "int(\"5\")"
   ]
  },
  {
   "cell_type": "code",
   "execution_count": 4,
   "id": "2b3af21b",
   "metadata": {},
   "outputs": [
    {
     "data": {
      "text/plain": [
       "5"
      ]
     },
     "execution_count": 4,
     "metadata": {},
     "output_type": "execute_result"
    }
   ],
   "source": [
    "int(5.2)"
   ]
  },
  {
   "cell_type": "markdown",
   "id": "eeb416fb",
   "metadata": {},
   "source": [
    "### 6.2.2. Comando FLOAT\n",
    "\n"
   ]
  },
  {
   "cell_type": "markdown",
   "id": "da263722",
   "metadata": {},
   "source": [
    "[D] O comando float() é usado para especificar variáveis reais.\n",
    " \n",
    "\n",
    "[CF] A forma geral do comando REAL é:\n",
    "\n",
    "    float(valor)\n",
    "\n",
    "[E] Exemplos:"
   ]
  },
  {
   "cell_type": "code",
   "execution_count": 6,
   "id": "156f7aff",
   "metadata": {},
   "outputs": [
    {
     "data": {
      "text/plain": [
       "5.0"
      ]
     },
     "execution_count": 6,
     "metadata": {},
     "output_type": "execute_result"
    }
   ],
   "source": [
    "float(\"5\")"
   ]
  },
  {
   "cell_type": "code",
   "execution_count": 7,
   "id": "edf88566",
   "metadata": {},
   "outputs": [
    {
     "data": {
      "text/plain": [
       "5.3"
      ]
     },
     "execution_count": 7,
     "metadata": {},
     "output_type": "execute_result"
    }
   ],
   "source": [
    "float(5.3)"
   ]
  },
  {
   "cell_type": "markdown",
   "id": "085e9036",
   "metadata": {},
   "source": [
    "### 6.2.3. Comando COMPLEX\n",
    "\n"
   ]
  },
  {
   "cell_type": "markdown",
   "id": "269d0c96",
   "metadata": {},
   "source": [
    "[D] O comando COMPLEX é usado para especificar variáveis do tipo complexo.\n",
    "\n",
    "[C] A letra \"j\" é utilizada para definir a parte imaginária em Python.\n",
    "\n",
    "[CF] A forma geral do comando COMPLEX é:\n",
    "\n",
    "    complex(valor)\n",
    "\n",
    "[E] Exemplos:"
   ]
  },
  {
   "cell_type": "code",
   "execution_count": 8,
   "id": "88ff43b2",
   "metadata": {},
   "outputs": [
    {
     "data": {
      "text/plain": [
       "(5+0j)"
      ]
     },
     "execution_count": 8,
     "metadata": {},
     "output_type": "execute_result"
    }
   ],
   "source": [
    "complex(5)"
   ]
  },
  {
   "cell_type": "code",
   "execution_count": 10,
   "id": "9e05db90",
   "metadata": {},
   "outputs": [
    {
     "data": {
      "text/plain": [
       "(5+5j)"
      ]
     },
     "execution_count": 10,
     "metadata": {},
     "output_type": "execute_result"
    }
   ],
   "source": [
    "complex(5 + 5j)"
   ]
  },
  {
   "cell_type": "markdown",
   "id": "2162d7c1",
   "metadata": {},
   "source": [
    "### 6.2.4. Comando BOOLEAN\n",
    "\n"
   ]
  },
  {
   "cell_type": "markdown",
   "id": "55f504fd",
   "metadata": {},
   "source": [
    "[D] O comando BOOLEAN é usado para especificar variáveis do tipo lógico.\n",
    "\n",
    "[CF] A forma geral do comando BOOLEAN é:\n",
    "\n",
    "    bool(valor)"
   ]
  },
  {
   "cell_type": "markdown",
   "id": "909e3f81",
   "metadata": {},
   "source": [
    "### 6.2.5. Comando STRING\n",
    "\n"
   ]
  },
  {
   "cell_type": "markdown",
   "id": "16d0ed87",
   "metadata": {},
   "source": [
    "[D] O comando STRING é usado para especificar variáveis do tipo caractere.\n",
    " \n",
    "\n",
    "[CF] A forma geral do comando STRING é:\n",
    "\n",
    "    str(\"nome\")\n",
    "\n",
    "[E] Exemplos:"
   ]
  },
  {
   "cell_type": "code",
   "execution_count": 15,
   "id": "43c7b5a8",
   "metadata": {},
   "outputs": [
    {
     "data": {
      "text/plain": [
       "'Nome'"
      ]
     },
     "execution_count": 15,
     "metadata": {},
     "output_type": "execute_result"
    }
   ],
   "source": [
    "str(\"Nome\")"
   ]
  },
  {
   "cell_type": "code",
   "execution_count": 16,
   "id": "eac7070c",
   "metadata": {},
   "outputs": [
    {
     "data": {
      "text/plain": [
       "'5'"
      ]
     },
     "execution_count": 16,
     "metadata": {},
     "output_type": "execute_result"
    }
   ],
   "source": [
    "str(5)"
   ]
  }
 ],
 "metadata": {
  "kernelspec": {
   "display_name": "Python 3 (ipykernel)",
   "language": "python",
   "name": "python3"
  },
  "language_info": {
   "codemirror_mode": {
    "name": "ipython",
    "version": 3
   },
   "file_extension": ".py",
   "mimetype": "text/x-python",
   "name": "python",
   "nbconvert_exporter": "python",
   "pygments_lexer": "ipython3",
   "version": "3.9.7"
  }
 },
 "nbformat": 4,
 "nbformat_minor": 5
}
