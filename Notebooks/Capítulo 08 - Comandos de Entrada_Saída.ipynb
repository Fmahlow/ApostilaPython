{
 "cells": [
  {
   "cell_type": "markdown",
   "id": "4330f972",
   "metadata": {},
   "source": [
    "# <center>Capítulo 8: Comandos de Entrada/Saída\n"
   ]
  },
  {
   "cell_type": "markdown",
   "id": "966c3f9b",
   "metadata": {},
   "source": [
    "## 8.1. Introdução\n",
    "\n"
   ]
  },
  {
   "cell_type": "markdown",
   "id": "d1cbe904",
   "metadata": {},
   "source": [
    "[D] Os \"Comandos de Entrada\" fornecem um método de transferir dados de um dispositivo periférico (como um teclado) ou de um arquivo interno para a memória principal. Este processo é chamado de \"leitura de dados\".\n",
    " \n",
    "\n",
    "[D] Os \"Comandos de Saída\" fornecem um meio de transferir dados da memória principal para um dispositivo periférico (como um monitor de vídeo ou impressora) ou um arquivo interno. Este processo é chamado de \"escrita\" ou \"gravação\" de dados.\n",
    " \n",
    "\n",
    "[C] Alguns comandos de E/S permitem que se edite os dados durante a sua transferência.\n",
    " \n",
    "\n",
    "[D] Neste capítulo somente serão apresentados os comandos de E/S que transferem dados (open, read, write). Comandos auxiliares não serão discutidos."
   ]
  },
  {
   "cell_type": "markdown",
   "id": "236c8916",
   "metadata": {},
   "source": [
    "## 8.2. Registros, Arquivos e Unidades\n",
    "\n"
   ]
  },
  {
   "cell_type": "markdown",
   "id": "2764c34f",
   "metadata": {},
   "source": [
    "[D] Um \"caractere\" é um único símbolo, tal como a letra z, o dígito 4 ou um asterisco *.\n",
    " \n",
    "\n",
    "[D] Um \"campo\" é uma sucessão de caracteres, que representa alguma informação, tal como ANTONIO ou 128.47.\n",
    " \n",
    "\n",
    "[D] Um \"registro\" é um grupo de campos que reúne informações sobre um único item, tal como:"
   ]
  },
  {
   "cell_type": "markdown",
   "id": "685cc5f9",
   "metadata": {},
   "source": [
    "<p><i><font face=\"Times New Roman\">ANTONIO&nbsp;&nbsp;&nbsp;&nbsp; 26-01-1937&nbsp;&nbsp;&nbsp;&nbsp;\n",
    "6543.21</font></i>\n",
    "<br><font face=\"Times New Roman\">&nbsp; (nome)&nbsp;&nbsp;&nbsp;&nbsp;&nbsp;&nbsp;&nbsp;&nbsp;\n",
    "(data nasc.)&nbsp;&nbsp;&nbsp;&nbsp;&nbsp; (salário)</font>\n",
    "</p>"
   ]
  },
  {
   "cell_type": "markdown",
   "id": "4f29dc57",
   "metadata": {},
   "source": [
    "<p><font face=\"Times New Roman\">[D] Um \"arquivo\" é um grupo de registros,\n",
    "tal como:</font>\n",
    "<br>&nbsp;\n",
    "<table border=\"\" bordercolor=\"#000000\">\n",
    "<tbody><tr>\n",
    "<td width=\"24\"><i><font face=\"Times New Roman\">A</font></i></td>\n",
    "\n",
    "<td width=\"24\"><i><font face=\"Times New Roman\">N</font></i></td>\n",
    "\n",
    "<td width=\"24\"><i><font face=\"Times New Roman\">T</font></i></td>\n",
    "\n",
    "<td width=\"24\"><i><font face=\"Times New Roman\">O</font></i></td>\n",
    "\n",
    "<td width=\"24\"><i><font face=\"Times New Roman\">N</font></i></td>\n",
    "\n",
    "<td width=\"24\"><i><font face=\"Times New Roman\">I</font></i></td>\n",
    "\n",
    "<td width=\"24\"><i><font face=\"Times New Roman\">O</font></i></td>\n",
    "\n",
    "<td width=\"24\"></td>\n",
    "\n",
    "<td width=\"24\"></td>\n",
    "\n",
    "<td width=\"24\"></td>\n",
    "\n",
    "<td width=\"24\"><i><font face=\"Times New Roman\">2</font></i></td>\n",
    "\n",
    "<td width=\"24\"><i><font face=\"Times New Roman\">6</font></i></td>\n",
    "\n",
    "<td width=\"24\"><i><font face=\"Times New Roman\">-</font></i></td>\n",
    "\n",
    "<td width=\"24\"><i><font face=\"Times New Roman\">0</font></i></td>\n",
    "\n",
    "<td width=\"24\"><i><font face=\"Times New Roman\">1</font></i></td>\n",
    "\n",
    "<td width=\"24\"><i><font face=\"Times New Roman\">-</font></i></td>\n",
    "\n",
    "<td width=\"24\"><i><font face=\"Times New Roman\">1</font></i></td>\n",
    "\n",
    "<td width=\"24\"><i><font face=\"Times New Roman\">9</font></i></td>\n",
    "\n",
    "<td width=\"24\"><i><font face=\"Times New Roman\">3</font></i></td>\n",
    "\n",
    "<td width=\"24\"><i><font face=\"Times New Roman\">7</font></i></td>\n",
    "\n",
    "<td width=\"24\"><i><font face=\"Times New Roman\">6</font></i></td>\n",
    "\n",
    "<td width=\"24\"><i><font face=\"Times New Roman\">5</font></i></td>\n",
    "\n",
    "<td width=\"24\"><i><font face=\"Times New Roman\">4</font></i></td>\n",
    "\n",
    "<td width=\"24\"><i><font face=\"Times New Roman\">3</font></i></td>\n",
    "\n",
    "<td width=\"24\"><i><font face=\"Times New Roman\">.</font></i></td>\n",
    "\n",
    "<td width=\"16\"><i><font face=\"Times New Roman\">2</font></i></td>\n",
    "\n",
    "<td width=\"24\"><i><font face=\"Times New Roman\">1</font></i></td>\n",
    "</tr>\n",
    "\n",
    "<tr>\n",
    "<td width=\"24\"><i><font face=\"Times New Roman\">A</font></i></td>\n",
    "\n",
    "<td width=\"24\"><i><font face=\"Times New Roman\">R</font></i></td>\n",
    "\n",
    "<td width=\"24\"><i><font face=\"Times New Roman\">N</font></i></td>\n",
    "\n",
    "<td width=\"24\"><i><font face=\"Times New Roman\">A</font></i></td>\n",
    "\n",
    "<td width=\"24\"><i><font face=\"Times New Roman\">L</font></i></td>\n",
    "\n",
    "<td width=\"24\"><i><font face=\"Times New Roman\">D</font></i></td>\n",
    "\n",
    "<td width=\"24\"><i><font face=\"Times New Roman\">O</font></i></td>\n",
    "\n",
    "<td width=\"24\"></td>\n",
    "\n",
    "<td width=\"24\"></td>\n",
    "\n",
    "<td width=\"24\"></td>\n",
    "\n",
    "<td width=\"24\"><i><font face=\"Times New Roman\">2</font></i></td>\n",
    "\n",
    "<td width=\"24\"><i><font face=\"Times New Roman\">2</font></i></td>\n",
    "\n",
    "<td width=\"24\"><i><font face=\"Times New Roman\">-</font></i></td>\n",
    "\n",
    "<td width=\"24\"><i><font face=\"Times New Roman\">1</font></i></td>\n",
    "\n",
    "<td width=\"24\"><i><font face=\"Times New Roman\">0</font></i></td>\n",
    "\n",
    "<td width=\"24\"><i><font face=\"Times New Roman\">-</font></i></td>\n",
    "\n",
    "<td width=\"24\"><i><font face=\"Times New Roman\">1</font></i></td>\n",
    "\n",
    "<td width=\"24\"><i><font face=\"Times New Roman\">9</font></i></td>\n",
    "\n",
    "<td width=\"24\"><i><font face=\"Times New Roman\">4</font></i></td>\n",
    "\n",
    "<td width=\"24\"><i><font face=\"Times New Roman\">5</font></i></td>\n",
    "\n",
    "<td width=\"24\"></td>\n",
    "\n",
    "<td width=\"24\"><i><font face=\"Times New Roman\">9</font></i></td>\n",
    "\n",
    "<td width=\"24\"><i><font face=\"Times New Roman\">8</font></i></td>\n",
    "\n",
    "<td width=\"24\"><i><font face=\"Times New Roman\">7</font></i></td>\n",
    "\n",
    "<td width=\"24\"><i><font face=\"Times New Roman\">.</font></i></td>\n",
    "\n",
    "<td width=\"16\"><i><font face=\"Times New Roman\">6</font></i></td>\n",
    "\n",
    "<td width=\"24\"><i><font face=\"Times New Roman\">5</font></i></td>\n",
    "</tr>\n",
    "\n",
    "<tr>\n",
    "<td width=\"24\"><i><font face=\"Times New Roman\">M</font></i></td>\n",
    "\n",
    "<td width=\"24\"><i><font face=\"Times New Roman\">.</font></i></td>\n",
    "\n",
    "<td width=\"24\"><i><font face=\"Times New Roman\">C</font></i></td>\n",
    "\n",
    "<td width=\"24\"><i><font face=\"Times New Roman\">R</font></i></td>\n",
    "\n",
    "<td width=\"24\"><i><font face=\"Times New Roman\">I</font></i></td>\n",
    "\n",
    "<td width=\"24\"><i><font face=\"Times New Roman\">S</font></i></td>\n",
    "\n",
    "<td width=\"24\"><i><font face=\"Times New Roman\">T</font></i></td>\n",
    "\n",
    "<td width=\"24\"><i><font face=\"Times New Roman\">I</font></i></td>\n",
    "\n",
    "<td width=\"24\"><i><font face=\"Times New Roman\">N</font></i></td>\n",
    "\n",
    "<td width=\"24\"><i><font face=\"Times New Roman\">A</font></i></td>\n",
    "\n",
    "<td width=\"24\"><i><font face=\"Times New Roman\">0</font></i></td>\n",
    "\n",
    "<td width=\"24\"><i><font face=\"Times New Roman\">7</font></i></td>\n",
    "\n",
    "<td width=\"24\"><i><font face=\"Times New Roman\">-</font></i></td>\n",
    "\n",
    "<td width=\"24\"><i><font face=\"Times New Roman\">0</font></i></td>\n",
    "\n",
    "<td width=\"24\"><i><font face=\"Times New Roman\">9</font></i></td>\n",
    "\n",
    "<td width=\"24\"><i><font face=\"Times New Roman\">-</font></i></td>\n",
    "\n",
    "<td width=\"24\"><i><font face=\"Times New Roman\">1</font></i></td>\n",
    "\n",
    "<td width=\"24\"><i><font face=\"Times New Roman\">9</font></i></td>\n",
    "\n",
    "<td width=\"24\"><i><font face=\"Times New Roman\">4</font></i></td>\n",
    "\n",
    "<td width=\"24\"><i><font face=\"Times New Roman\">2</font></i></td>\n",
    "\n",
    "<td width=\"24\"><i><font face=\"Times New Roman\">1</font></i></td>\n",
    "\n",
    "<td width=\"24\"><i><font face=\"Times New Roman\">2</font></i></td>\n",
    "\n",
    "<td width=\"24\"><i><font face=\"Times New Roman\">3</font></i></td>\n",
    "\n",
    "<td width=\"24\"><i><font face=\"Times New Roman\">4</font></i></td>\n",
    "\n",
    "<td width=\"24\"><i><font face=\"Times New Roman\">.</font></i></td>\n",
    "\n",
    "<td width=\"16\"><i><font face=\"Times New Roman\">5</font></i></td>\n",
    "\n",
    "<td width=\"24\"><i><font face=\"Times New Roman\">6</font></i></td>\n",
    "</tr>\n",
    "</tbody></table>\n",
    "\n",
    "</p>"
   ]
  },
  {
   "cell_type": "markdown",
   "id": "83a756ce",
   "metadata": {},
   "source": [
    "Temos acima um arquivo, com três registros, cada registro com três campos e comprimento total de 27 caracteres."
   ]
  },
  {
   "cell_type": "markdown",
   "id": "c304a848",
   "metadata": {},
   "source": [
    "[C] Cada comando de E/S opera sobre um único registro.\n",
    " \n",
    "\n",
    "[D] Uma unidade de E/S é um meio de se referir a um arquivo. Usa-se números de unidades de E/S para distinguir um arquivo de outro.\n",
    "\n",
    "\n",
    "[C] O comando OPEN estabelece a conexão a um particular arquivo.\n",
    " "
   ]
  },
  {
   "cell_type": "markdown",
   "id": "94d0df9e",
   "metadata": {},
   "source": [
    "## 8.3 Comando OPEN\n",
    "\n"
   ]
  },
  {
   "cell_type": "markdown",
   "id": "44588ecc",
   "metadata": {},
   "source": [
    "[C] O comando OPEN serve para inicializar um arquivo.\n",
    " \n",
    "\n",
    "[CF] A forma geral simplificada do comando OPEN é:\n",
    "\n",
    "    open('arquivo.csv', 'r')\n",
    "\n",
    "sendo que:\n",
    "\n",
    "* $r$ &#8594; Ler\n",
    "* $w$ &#8594; Escrever\n",
    "* $a$ &#8594; Adicionar\n",
    " "
   ]
  },
  {
   "cell_type": "markdown",
   "id": "a5986fcd",
   "metadata": {},
   "source": [
    "## 8.4. Comando CLOSE\n",
    "\n"
   ]
  },
  {
   "cell_type": "markdown",
   "id": "6f3b5a1e",
   "metadata": {},
   "source": [
    "[D] O comando CLOSE serve para finalizar um arquivo. É o oposto de OPEN.\n",
    " \n",
    "\n",
    "[CF] A forma geral simplificada do comando CLOSE é:\n",
    "\n",
    "    arquivo.close()"
   ]
  },
  {
   "cell_type": "markdown",
   "id": "2193be6c",
   "metadata": {},
   "source": [
    "## 8.5. Comando READ\n",
    "\n"
   ]
  },
  {
   "cell_type": "markdown",
   "id": "f536a3a4",
   "metadata": {},
   "source": [
    "[C] A fim de fazer a leitura de um arquivo, primeiro precisamos abri-lo, utilizando o comando open(), como indicado acima.\n",
    "\n",
    "[D] Os comandos READ transferem dados de entrada para a memória de trabalho.\n",
    "\n",
    "[CF] A forma geral simplificada do comando read() é:\n",
    "\n",
    "    arquivo.read()"
   ]
  },
  {
   "cell_type": "markdown",
   "id": "db6bd564",
   "metadata": {},
   "source": [
    "## 8.6. Comando PRINT\n",
    "\n"
   ]
  },
  {
   "cell_type": "markdown",
   "id": "666b3deb",
   "metadata": {},
   "source": [
    "[D] O comando print() escreve na tela o conjunto de informações desejadas.\n",
    " "
   ]
  },
  {
   "cell_type": "code",
   "execution_count": 2,
   "id": "c10eca88",
   "metadata": {},
   "outputs": [
    {
     "name": "stdout",
     "output_type": "stream",
     "text": [
      "Olá mundo\n"
     ]
    }
   ],
   "source": [
    "print(\"Olá mundo\")"
   ]
  },
  {
   "cell_type": "code",
   "execution_count": 3,
   "id": "dd1a3c69",
   "metadata": {},
   "outputs": [
    {
     "name": "stdout",
     "output_type": "stream",
     "text": [
      "Olá Mundo\n"
     ]
    }
   ],
   "source": [
    "variavel = \"Olá Mundo\"\n",
    "print(variavel)"
   ]
  }
 ],
 "metadata": {
  "kernelspec": {
   "display_name": "Python 3 (ipykernel)",
   "language": "python",
   "name": "python3"
  },
  "language_info": {
   "codemirror_mode": {
    "name": "ipython",
    "version": 3
   },
   "file_extension": ".py",
   "mimetype": "text/x-python",
   "name": "python",
   "nbconvert_exporter": "python",
   "pygments_lexer": "ipython3",
   "version": "3.9.7"
  }
 },
 "nbformat": 4,
 "nbformat_minor": 5
}
