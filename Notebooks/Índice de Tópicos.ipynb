{
 "cells": [
  {
   "cell_type": "markdown",
   "id": "1783c5e5",
   "metadata": {},
   "source": [
    "# <center>Índice de Tópicos<center>\n"
   ]
  },
  {
   "cell_type": "markdown",
   "id": "130105ba",
   "metadata": {},
   "source": [
    "## Capítulo 0: Notas Introdutórias\n"
   ]
  },
  {
   "cell_type": "markdown",
   "id": "5cec146d",
   "metadata": {},
   "source": [
    "- 0.1. Assuntos Gerais\n",
    "- 0.2. O editor de textos\n",
    "- 0.3. Sistema Operador de Discos"
   ]
  },
  {
   "cell_type": "markdown",
   "id": "5ebc467e",
   "metadata": {},
   "source": [
    "## Capítulo 1: Noções Preliminares\n"
   ]
  },
  {
   "cell_type": "markdown",
   "id": "cc299987",
   "metadata": {},
   "source": [
    "- 1.1. Introdução\n",
    "- 1.2. Computadores\n",
    "- 1.3. Algoritmos\n",
    "- 1.4. Diagramas de Fluxo\n",
    "- 1.7. Linguagens de Programação\n",
    "- 1.7.1 Linguagem de Máquina\n",
    "- 1.7.2. Linguagem Simbólica de Máquina\n",
    "- 1.7.3. Linguagens de Compiladores\n",
    "- 1.8. Passos no Desenvolvimento de Programas"
   ]
  },
  {
   "cell_type": "markdown",
   "id": "51462557",
   "metadata": {},
   "source": [
    "## Capítulo 2: A Linguagem Fortran: Conceitos Básicos\n"
   ]
  },
  {
   "cell_type": "markdown",
   "id": "5437cba0",
   "metadata": {},
   "source": [
    "- 2.1 Introdução\n",
    "- 2.2. Definições da Linguagem\n",
    "- 2.3. Itens sintáticos do Fortran\n",
    "- 2.4. Caracteres usados no Fortran\n",
    "- 2.5. Uma visão geral do Fortran\n",
    "- 2.6. Codificação de programas em Fortran\n",
    "- 2.6.1. Formato Livre\n",
    "- 2.6.2. Formato Fixo"
   ]
  },
  {
   "cell_type": "markdown",
   "id": "bd48ebc4",
   "metadata": {},
   "source": [
    "## Capítulo 3: Constantes, Variáveis e Conjuntos\n"
   ]
  },
  {
   "cell_type": "markdown",
   "id": "43977ae7",
   "metadata": {},
   "source": [
    "- 3.1 Introdução\n",
    "- 3.2. Constantes\n",
    "- 3.2.1. Constantes Inteiras\n",
    "- 3.2.2. Constantes Reais\n",
    "- 3.2.11. Constantes Caracteres\n",
    "- 3.3. Variáveis\n",
    "- 3.3.1. Variáveis Inteiras\n",
    "- 3.3.2 Variáveis Reais\n",
    "- 3.3.3. Variáveis Caracteres\n",
    "- 3.4. Conjuntos\n",
    "- 3.4.1 Declaradores de Conjuntos"
   ]
  },
  {
   "cell_type": "markdown",
   "id": "974e1f1c",
   "metadata": {},
   "source": [
    "## Capítulo 4: Expressões\n"
   ]
  },
  {
   "cell_type": "markdown",
   "id": "607b6194",
   "metadata": {},
   "source": [
    "- 4.1. Introdução\n",
    "- 4.2. Expressões Aritméticas\n",
    "- 4.4 Expressões Relacionais\n",
    "- 4.5 Expressões Lógicas"
   ]
  },
  {
   "cell_type": "markdown",
   "id": "21cdb8a9",
   "metadata": {},
   "source": [
    "## Capítulo 5: Comandos de Atribuição\n"
   ]
  },
  {
   "cell_type": "markdown",
   "id": "a19f5963",
   "metadata": {},
   "source": [
    "- 5.1 Introdução\n",
    "\n"
   ]
  },
  {
   "cell_type": "markdown",
   "id": "df636a94",
   "metadata": {},
   "source": [
    "## Capítulo 6: Comandos de Especificação: Declaração de Tipos de Variáveis\n"
   ]
  },
  {
   "cell_type": "markdown",
   "id": "1c1fc87a",
   "metadata": {},
   "source": [
    "- 6.1 Introdução\n",
    "- 6.2. Comando IMPLICIT\n",
    "- 6.3. Comandos de Especificação Explícita\n",
    "- 6.3.1. Comando INTEGER\n",
    "- 6.3.2. Comando REAL\n",
    "- 6.3.3. Comando DOUBLE PRECISION\n",
    "- 6.3.4. Comando COMPLEX\n",
    "- 6.3.5. Comando LOGICAL\n",
    "- 6.3.6. Comando CHARACTER"
   ]
  },
  {
   "cell_type": "markdown",
   "id": "53c33ef8",
   "metadata": {},
   "source": [
    "## Capítulo 7: Comandos de Especificação: Designação de Áreas de Memória\n"
   ]
  },
  {
   "cell_type": "markdown",
   "id": "a24e283e",
   "metadata": {},
   "source": [
    "- 7.1. Introdução\n",
    "- 7.2. Comando DIMENSION\n",
    "- 7.3 Comando COMMON\n",
    "- 7.4. Unidades de programas do tipo MODULE\n",
    "- 7.5. Comando USE\n",
    "- 7.6. Comando PARAMETER\n",
    "- 7.7. Comando PROGRAM\n",
    "- 7.8. Comandos ALLOCATE,  DEALLOCATE E ALLOCATABLE"
   ]
  },
  {
   "cell_type": "markdown",
   "id": "48d0a7f5",
   "metadata": {},
   "source": [
    "## Capítulo 8: Comandos de Controle de Fluxo e Programação Estruturada\n"
   ]
  },
  {
   "cell_type": "markdown",
   "id": "f40bf104",
   "metadata": {},
   "source": [
    "- 8.1. Introdução\n",
    "- 8.2. Estruturas de Controle\n",
    "- 8.3. Comandos GO TO\n",
    "- 8.3.1. Comando GO TO incondicional\n",
    "- 8.4. Comandos IF\n",
    "- 8.4.2. Comando IF lógico\n",
    "- 8.4.3. Comandos IF bloco\n",
    "- 8.4.5. Estruturas de IF bloco encaixados\n",
    "- 8.5. Comando DO\n",
    "- 8.5.2. Laços de DO encaixados\n",
    "- 8.6. Comando EXIT\n",
    "- 8.7. Comando CYCLE\n",
    "- 8.8. Comando CONTINUE\n",
    "- 8.9 Comando STOP\n",
    "- 8.10. Comando END\n",
    "- 8.11. Comando SELECT CASE"
   ]
  },
  {
   "cell_type": "markdown",
   "id": "1c1e3013",
   "metadata": {},
   "source": [
    "## Capítulo 9: Comandos de Entrada/Saída 35\n"
   ]
  },
  {
   "cell_type": "markdown",
   "id": "69f151d0",
   "metadata": {},
   "source": [
    "- 9.1. Introdução\n",
    "- 9.2. Registros, Arquivos e Unidades\n",
    "- 9.3. Componentes dos Comandos de E/S\n",
    "- 9.3.1. Lista de Especificadores de Controle de E/S\n",
    "- 9.3.2. Lista de E/S\n",
    "- 9.4. Comandos READ\n",
    "- 9.4.1. Comandos READ seqüenciais\n",
    "- 9.5. Comandos WRITE (PRINT)\n",
    "- 9.5.1. Comandos WRITE (PRINT) seqüenciais\n",
    "- 9.6. Comandos de Condição de Arquivos de E/S\n",
    "- 9.6.1. Comando OPEN\n",
    "- 9.6.2. Comando CLOSE"
   ]
  },
  {
   "cell_type": "markdown",
   "id": "212a28c7",
   "metadata": {},
   "source": [
    "## Capítulo 10: Comando FORMAT e Especificações de Formato\n"
   ]
  },
  {
   "cell_type": "markdown",
   "id": "39a53004",
   "metadata": {},
   "source": [
    "- 10.1. Introdução\n",
    "- 10.2. Comando FORMAT\n",
    "- 10.3. Especificações de Formato (EF) de Conversão\n",
    "- 10.4. Especificações de Formato de Edição\n",
    "- 10.5. Especificações de Formato em Grupos Repetidos"
   ]
  },
  {
   "cell_type": "markdown",
   "id": "93081646",
   "metadata": {},
   "source": [
    "## Capítulo 11: Subprogramas\n"
   ]
  },
  {
   "cell_type": "markdown",
   "id": "c4f548a6",
   "metadata": {},
   "source": [
    "- 11.1. Introdução\n",
    "- 11.2. Argumentos de Subprogramas\n",
    "- 11.3. Funções Intrínsecas (FI)\n",
    "- 11.4. Funções Function\n",
    "- 11.4.1. Comando FUCTION\n",
    "- 11.5. Funções de Comando\n",
    "- 11.5.1. Definição de Função de Comando\n",
    "- 11.6. Subprogramas Subrotinas\n",
    "- 11.6.1. Comando SUBROUTINE\n",
    "- 11.6.2. Comando CALL\n",
    "- 11.7. Dimensões Ajustáveis"
   ]
  }
 ],
 "metadata": {
  "kernelspec": {
   "display_name": "Python 3 (ipykernel)",
   "language": "python",
   "name": "python3"
  },
  "language_info": {
   "codemirror_mode": {
    "name": "ipython",
    "version": 3
   },
   "file_extension": ".py",
   "mimetype": "text/x-python",
   "name": "python",
   "nbconvert_exporter": "python",
   "pygments_lexer": "ipython3",
   "version": "3.9.7"
  }
 },
 "nbformat": 4,
 "nbformat_minor": 5
}
