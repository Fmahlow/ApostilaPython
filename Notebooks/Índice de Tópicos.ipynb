{
 "cells": [
  {
   "cell_type": "markdown",
   "id": "1783c5e5",
   "metadata": {},
   "source": [
    "# <center>Índice de Tópicos<center>\n"
   ]
  },
  {
   "cell_type": "markdown",
   "id": "130105ba",
   "metadata": {},
   "source": [
    "## Capítulo 0: Notas Introdutórias\n"
   ]
  },
  {
   "cell_type": "markdown",
   "id": "5ebc467e",
   "metadata": {},
   "source": [
    "## Capítulo 1: Noções Preliminares\n"
   ]
  },
  {
   "cell_type": "markdown",
   "id": "cc299987",
   "metadata": {},
   "source": [
    "- 1.1. Introdução\n",
    "- 1.2. Computadores\n",
    "- 1.3. Algoritmos\n",
    "- 1.4. Diagramas de Fluxo\n",
    "- 1.5. Linguagens de Programação\n",
    "- 1.5.1 Linguagem de Máquina\n",
    "- 1.5.2. Linguagem Simbólica de Montadora\n",
    "- 1.5.3. Linguagens de Compiladores\n",
    "- 1.6. Passos no Desenvolvimento de Programas"
   ]
  },
  {
   "cell_type": "markdown",
   "id": "51462557",
   "metadata": {},
   "source": [
    "## Capítulo 2: A Linguagem Python: Conceitos Básicos\n"
   ]
  },
  {
   "cell_type": "markdown",
   "id": "5437cba0",
   "metadata": {},
   "source": [
    "- 2.1 Introdução\n",
    "- 2.2. Definições da Linguagem\n",
    "- 2.3. Itens sintáticos do Python\n",
    "- 2.4. Caracteres usados no Python\n",
    "- 2.5. Uma visão geral do Python"
   ]
  },
  {
   "cell_type": "markdown",
   "id": "bd48ebc4",
   "metadata": {},
   "source": [
    "## Capítulo 3: Constantes, Variáveis e Conjuntos\n"
   ]
  },
  {
   "cell_type": "markdown",
   "id": "43977ae7",
   "metadata": {},
   "source": [
    "- 3.1 Introdução\n",
    "- 3.2. Constantes\n",
    "- 3.3. Variáveis\n",
    "- 3.4. Conjuntos"
   ]
  },
  {
   "cell_type": "markdown",
   "id": "974e1f1c",
   "metadata": {},
   "source": [
    "## Capítulo 4: Expressões\n"
   ]
  },
  {
   "cell_type": "markdown",
   "id": "607b6194",
   "metadata": {},
   "source": [
    "- 4.1. Introdução\n",
    "- 4.2. Expressões Aritméticas\n",
    "- 4.3. Expressões Relacionais\n",
    "- 4.4 Expressões Lógicas"
   ]
  },
  {
   "cell_type": "markdown",
   "id": "21cdb8a9",
   "metadata": {},
   "source": [
    "## Capítulo 5: Comandos de Atribuição\n"
   ]
  },
  {
   "cell_type": "markdown",
   "id": "a19f5963",
   "metadata": {},
   "source": [
    "- 5.1 Introdução\n",
    "\n"
   ]
  },
  {
   "cell_type": "markdown",
   "id": "df636a94",
   "metadata": {},
   "source": [
    "## Capítulo 6: Comandos de Especificação: Declaração de Tipos de Variáveis\n"
   ]
  },
  {
   "cell_type": "markdown",
   "id": "1c1fc87a",
   "metadata": {},
   "source": [
    "- 6.1 Introdução\n",
    "- 6.2. Comandos de Especificação Explícita\n",
    "- 6.2.1. Comando INTEGER\n",
    "- 6.2.2. Comando FLOAT\n",
    "- 6.2.3. Comando COMPLEX\n",
    "- 6.2.4. Comando BOOLEAN\n",
    "- 6.2.5. Comando STRING"
   ]
  },
  {
   "cell_type": "markdown",
   "id": "48d0a7f5",
   "metadata": {},
   "source": [
    "## Capítulo 7: Comandos de Controle de Fluxo e Programação Estruturada\n"
   ]
  },
  {
   "cell_type": "markdown",
   "id": "f40bf104",
   "metadata": {},
   "source": [
    "- 7.1. Introdução\n",
    "- 7.2. Estruturas de Controle\n",
    "- 7.3. Comandos IF\n",
    "- 7.3.1. Comando IF lógico\n",
    "- 7.3.2. Comandos IF bloco\n",
    "- 7.3.3. Estruturas de IF bloco encaixados\n",
    "- 7.4. Comando FOR\n",
    "- 7.4.1. Laços de FOR encaixados\n",
    "- 7.5. Comando WHILE\n",
    "- 7.6. Comando BREAK\n",
    "- 7.7. Comando CONTINUE"
   ]
  },
  {
   "cell_type": "markdown",
   "id": "1c1e3013",
   "metadata": {},
   "source": [
    "## Capítulo 8: Comandos de Entrada/Saída\n"
   ]
  },
  {
   "cell_type": "markdown",
   "id": "69f151d0",
   "metadata": {},
   "source": [
    "- 8.1. Introdução\n",
    "- 8.2. Registros, Arquivos e Unidades\n",
    "- 8.3. Comando OPEN\n",
    "- 8.4. Comando CLOSE\n",
    "- 8.5. Comando READ\n",
    "- 8.6. Comando PRINT"
   ]
  },
  {
   "cell_type": "markdown",
   "id": "212a28c7",
   "metadata": {},
   "source": [
    "## Capítulo 9: Comando FORMAT e Especificações de Formato\n"
   ]
  },
  {
   "cell_type": "markdown",
   "id": "39a53004",
   "metadata": {},
   "source": [
    "- 10.1. Introdução\n",
    "- 10.2. Especificações de Formato (EF) de Conversão\n",
    "- 10.3. Especificações de Espaçamento\n"
   ]
  },
  {
   "cell_type": "markdown",
   "id": "93081646",
   "metadata": {},
   "source": [
    "## Capítulo 10: Subprogramas\n"
   ]
  },
  {
   "cell_type": "markdown",
   "id": "c4f548a6",
   "metadata": {},
   "source": [
    "- 11.1. Introdução\n",
    "- 11.2. Argumentos de Subprogramas\n",
    "- 11.3. Funções Intrínsecas (FI)\n",
    "- 11.4. Funções DEF\n",
    "- 11.5. Importando Funções"
   ]
  }
 ],
 "metadata": {
  "kernelspec": {
   "display_name": "Python 3 (ipykernel)",
   "language": "python",
   "name": "python3"
  },
  "language_info": {
   "codemirror_mode": {
    "name": "ipython",
    "version": 3
   },
   "file_extension": ".py",
   "mimetype": "text/x-python",
   "name": "python",
   "nbconvert_exporter": "python",
   "pygments_lexer": "ipython3",
   "version": "3.9.7"
  }
 },
 "nbformat": 4,
 "nbformat_minor": 5
}
