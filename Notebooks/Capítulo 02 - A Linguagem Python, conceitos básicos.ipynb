{
 "cells": [
  {
   "cell_type": "markdown",
   "id": "c64a7773",
   "metadata": {},
   "source": [
    "# <center>Capítulo 2: A Linguagem Python: Conceitos Básicos\n"
   ]
  },
  {
   "cell_type": "markdown",
   "id": "5743fcc0",
   "metadata": {},
   "source": [
    "[C] O nome Python teve a sua origem no grupo humorístico britânico Monty Python, criador do programa Monty Python's Flying Circus, embora muitas pessoas façam associação com o réptil do mesmo nome.\n",
    " \n",
    "\n",
    "[C] É uma linguagem de programação de alto nível, interpretada de script, imperativa, orientada a objetos, funcional, de tipagem dinâmica e forte.\n",
    " \n",
    "\n",
    "[C] Foi lançada por Guido van Rossum em 1991. Atualmente, possui um modelo de desenvolvimento comunitário, aberto e gerenciado pela organização sem fins lucrativos Python Software Foundation."
   ]
  },
  {
   "cell_type": "markdown",
   "id": "7d59cd66",
   "metadata": {},
   "source": [
    "## 2.2. Definições da Linguagem"
   ]
  },
  {
   "cell_type": "markdown",
   "id": "c204637b",
   "metadata": {},
   "source": [
    "D] Programa Principal é uma unidade que pode chamar outras unidades de programa, mas que não pode ser chamado por estas. O programa principal é quem recebe o controle da execução no início da fase de execução.\n",
    " \n",
    "\n",
    "[D] Subprograma é uma unidade de programa que é chamada por outra unidade de programa. Usualmente um subprograma recebe parâmetros de entrada e  retorna parâmetros de saída. No caso de Python, utilizamos funções.\n",
    " \n",
    "\n",
    "[D] Função Intrínseca é uma função suprida pelo interpretador e que realiza operações sobre números ou caracteres.\n",
    " \n",
    "\n",
    "[D] Programa Executável é um programa já em linguagem de máquina que pode ser executado pelo computador. Consiste de um programa principal e subprogramas.\n",
    " \n",
    "\n",
    "[D] Comando Executável é aquele que efetua cálculos, testes, providencia entrada ou saída de dados, altera o fluxo de execução ou atribui valores a variáveis.\n",
    " \n",
    "\n",
    "[D] Comando Não-Executável é aquele que descreve as características de uma unidade de programa, dos dados ou de informações de edição.\n",
    "\n",
    "[D] Arquivos de Dados são unidades de entrada e saída de dados, passíveis de serem lidos/escritos por um programa."
   ]
  },
  {
   "cell_type": "markdown",
   "id": "537ec9ab",
   "metadata": {},
   "source": [
    "## 2.3. Itens sintáticos do Python\n",
    "\n"
   ]
  },
  {
   "cell_type": "markdown",
   "id": "d0c9bd47",
   "metadata": {},
   "source": [
    "[D] Sintaxe é a parte da gramática que estuda a disposição das palavras na frase e a das frases no discurso.\n",
    " \n",
    "\n",
    "[D] Constantes são valores ou números que ocorrem num programa.\n",
    " \n",
    "\n",
    "[D] Nome simbólico é uma sequência de uma ou mais letras ou dígitos, o primeiro dos quais deve ser uma letra.\n",
    " \n",
    "\n",
    "[D] Variáveis são valores ou números ou conjuntos de caracteres que ocorrem num programa e que podem sofrer variações durante a execução do programa. Na realidade uma variável é o nome de uma localização da memória.\n",
    "\n",
    "\n",
    "[D] Palavra chave é uma sequência de letras que identificam exclusivamente comandos Python.\n",
    " \n",
    "\n",
    "[D] Operador é um ente similar a um operador matemático.\n",
    " \n",
    "\n",
    "[C] Valores são obtidos da memória quando eles são usados no lado direito do sinal de igual.\n",
    " \n",
    "\n",
    "[C] Observe que o sinal de \"=\" não indica uma igualdade e sim uma atribuição.\n",
    " \n",
    "\n",
    "[C] O Python permite que você defina diferentes tipos de variáveis. Usa-se variáveis inteiras para armazenar números inteiros, variáveis reais para números reais, variáveis complexas para números complexos, variáveis caracter para palavras e frases, etc.\n",
    " \n",
    "\n",
    "[C] Você pode definir os tipos de variáveis no seu programa através de \"comandos de definição de tipo\".\n",
    " \n",
    "\n",
    "[CF] Existem vários comandos Python para a definição de tipo de variável, entre os quais \"str\", \"int\" e \"float\".\n",
    " \n",
    "\n",
    "[C] Os cálculos podem ser feitos através de comandos de atribuição, escrevendo-se uma \"expressão\" no lado direito do sinal de igual.\n",
    " \n",
    "\n",
    "[C] Símbolos de operações matemáticas (também conhecidos como \"operadores aritméticos\"): adição, \"+\"; subtração, \"-\"; multiplicação, \"*\"; divisão, \"/\"; potenciação, \"**\".\n",
    " \n",
    "\n",
    "[C] Pode-se usar parênteses para agrupar termos em expressões Python, como é feito em álgebra."
   ]
  },
  {
   "cell_type": "markdown",
   "id": "ebe12058",
   "metadata": {},
   "source": [
    "## 2.4. Caracteres usados no Python\n",
    "\n"
   ]
  },
  {
   "cell_type": "markdown",
   "id": "dd81c4d1",
   "metadata": {},
   "source": [
    "[D] O conjunto de caracteres Python é constituído de: letras (ou caracteres alfabéticos), dígitos (ou caracteres numéricos) e símbolos especiais como =, +, -, /, *, etc."
   ]
  },
  {
   "cell_type": "markdown",
   "id": "d1959d10",
   "metadata": {},
   "source": [
    "## 2.5. Uma visão geral do Python\n",
    "\n"
   ]
  },
  {
   "cell_type": "markdown",
   "id": "b4f75e5f",
   "metadata": {},
   "source": [
    "[E] Exemplo de um programa para calcular a média das notas de uma prova de uma turma e determinar o número de notas acima e abaixo de 5,0. Vamos usar a equação abaixo para calcular a média da turma:"
   ]
  },
  {
   "cell_type": "markdown",
   "id": "1fe9f213",
   "metadata": {},
   "source": [
    "<div><img src=\"imgs/media.gif\" width=\"100\" /></div>"
   ]
  },
  {
   "cell_type": "markdown",
   "id": "f71efafc",
   "metadata": {},
   "source": [
    "sendo que:     MT = média da turma,\n",
    "             nota(i) = nota do aluno i,\n",
    "             NT = número total de alunos.\n",
    "             \n",
    "O código do programa poderia ser:\n",
    "\n"
   ]
  },
  {
   "cell_type": "code",
   "execution_count": 19,
   "id": "dcfd71fb",
   "metadata": {},
   "outputs": [
    {
     "name": "stdout",
     "output_type": "stream",
     "text": [
      "Digite o número total de alunos: 3\n",
      "Digite a nota do aluno 1: 10\n",
      "Digite a nota do aluno 2: 8\n",
      "Digite a nota do aluno 3: 3\n",
      "A média da turma foi:  7.0\n",
      "Notas superiores ou iguais a 5.0:  2\n",
      "Notas inferiores a 5.0:  1\n"
     ]
    }
   ],
   "source": [
    "nt = int(input(\"Digite o número total de alunos: \"))\n",
    "ns5 = ni5 = soma = 0\n",
    "for i in range(0, nt):\n",
    "    nota = float(input(\"Digite a nota do aluno \" + str(i+1) + \": \"))\n",
    "    soma += nota\n",
    "    if nota >= 5:\n",
    "        ns5 += 1\n",
    "    else:\n",
    "        ni5 += 1\n",
    "print(\"A média da turma foi: \", (soma/nt))\n",
    "print(\"Notas superiores ou iguais a 5.0: \", ns5)\n",
    "print(\"Notas inferiores a 5.0: \", ni5)"
   ]
  },
  {
   "cell_type": "markdown",
   "id": "7243c4db",
   "metadata": {},
   "source": [
    "#### [C] Veja figura a seguir contendo o fluxograma para o programa media.py.\n",
    "\n"
   ]
  },
  {
   "cell_type": "markdown",
   "id": "02b25ae9",
   "metadata": {},
   "source": [
    "<div><img src=\"imgs/fluxo3.gif\" width=\"400\" /></div>"
   ]
  },
  {
   "cell_type": "markdown",
   "id": "6441f9f5",
   "metadata": {},
   "source": [
    "[C] Uma \"variável\" Python é um nome para uma localização de memória. Variáveis no exemplo acima: nt, ns5, ni5, mt, nota, soma, i.\n",
    " \n",
    "\n",
    "[C] O \"valor\" de uma variável é a informação armazenada na localização de memória que é representada pela variável.\n",
    " \n",
    "\n",
    "[D] Um \"comando de atribuição\" é o tipo de comando que permite armazenar um valor em uma variável. Comandos de atribuição no exemplo acima:"
   ]
  },
  {
   "cell_type": "code",
   "execution_count": 20,
   "id": "63b1b203",
   "metadata": {},
   "outputs": [],
   "source": [
    "ns5 = 0\n",
    "ni5 = 0\n",
    "soma = 0"
   ]
  },
  {
   "cell_type": "markdown",
   "id": "6fb27384",
   "metadata": {},
   "source": [
    "[C] Quando você atribui um valor a uma variável, o valor anteriormente armazenado é destruído.\n",
    " \n",
    "\n",
    "[C] Os comandos num programa Python são, normalmente, executados na ordem em que são escritos. Entretanto, pode-se alterar esta ordem de execução através dos \"comandos de controle de fluxo\".\n",
    "\n",
    "[C] O espaçamento (Identação) identifica o que deve ser executado dentro dos comandos de controle de fluxo.\n",
    " \n",
    "\n",
    "[CF] Um comando de controle que representa uma decisão é a construção \"if/ elif/ else\".\n",
    " \n",
    "\n",
    "[C] Veja figura a seguir para uma tomada de decisão e desvio do fluxo de execução."
   ]
  },
  {
   "cell_type": "markdown",
   "id": "563aba70",
   "metadata": {},
   "source": [
    "<div><img src=\"imgs/fluxo4.gif\" width=\"400\" /></div>"
   ]
  },
  {
   "cell_type": "markdown",
   "id": "b2f131e8",
   "metadata": {},
   "source": [
    "[E] Veja figura a seguir para o fluxograma para o algoritmo que decide aprovar ou reprovar um aluno, baseado na sua média final.\n",
    "\n"
   ]
  },
  {
   "cell_type": "markdown",
   "id": "d73e5422",
   "metadata": {},
   "source": [
    "<div><img src=\"imgs/fluxo5.gif\" width=\"400\" /></div>"
   ]
  },
  {
   "cell_type": "markdown",
   "id": "6c3856e9",
   "metadata": {},
   "source": [
    "[C] Comandos Python para o fluxograma anterior:"
   ]
  },
  {
   "cell_type": "code",
   "execution_count": 4,
   "id": "f4f4e908",
   "metadata": {},
   "outputs": [
    {
     "name": "stdout",
     "output_type": "stream",
     "text": [
      "Digite a média final do aluno: 5\n",
      "Aprovado\n"
     ]
    }
   ],
   "source": [
    "mf = int(input(\"Digite a média final do aluno: \"))\n",
    "if mf >= 5:\n",
    "    situacao = \"Aprovado\"\n",
    "else:\n",
    "    situacao = \"Reprovado\"\n",
    "print(situacao)"
   ]
  },
  {
   "cell_type": "markdown",
   "id": "347acad7",
   "metadata": {},
   "source": [
    "[CF] Um comando de controle que representa um laço é o comando \"for\".\n",
    "\n",
    "[C] Veja a seguir um fluxograma de um laço de repetição."
   ]
  },
  {
   "cell_type": "markdown",
   "id": "dd79e128",
   "metadata": {},
   "source": [
    "<div><img src=\"imgs/fluxo6.gif\" width=\"400\" /></div>"
   ]
  },
  {
   "cell_type": "markdown",
   "id": "1cd013ad",
   "metadata": {},
   "source": [
    "[E] Veja a seguir o fluxograma para o algoritmo para somar todos os números naturais de 1 a 10.\n",
    "\n"
   ]
  },
  {
   "cell_type": "markdown",
   "id": "62a36469",
   "metadata": {},
   "source": [
    "<div><img src=\"imgs/fluxo7.gif\" width=\"400\" /></div>"
   ]
  },
  {
   "cell_type": "markdown",
   "id": "095a2ad8",
   "metadata": {},
   "source": [
    "[C] Comandos Python para o fluxograma anterior:\n",
    "\n",
    "[C] \"+=\" significa acrescentar o valor \"à direita da equação\" ao valor já contido na variável. É similar à escrita soma = soma + i no caso abaixo.\n",
    "\n",
    "[C] Atenção! Qualquer intervalo delimitado em Python se inicia com no valor à esquerda e finaliza no antecessor do valor à direita. Por este motivo, quando declaramos o range (alcance) abaixo, ele é dado como (1,11), desta forma estamos tendo como alvo os valores de 1 a 10.\n"
   ]
  },
  {
   "cell_type": "code",
   "execution_count": 27,
   "id": "2b7aea44",
   "metadata": {},
   "outputs": [
    {
     "name": "stdout",
     "output_type": "stream",
     "text": [
      "55\n"
     ]
    }
   ],
   "source": [
    "soma = 0\n",
    "for i in range(1,11):\n",
    "    soma += i\n",
    "print(soma)"
   ]
  },
  {
   "cell_type": "markdown",
   "id": "8db55675",
   "metadata": {},
   "source": [
    "[E] Veja a seguir o fluxograma para o algoritmo para somar todos os números naturais pares de 1 a 10.\n",
    "\n"
   ]
  },
  {
   "cell_type": "markdown",
   "id": "ac9a5482",
   "metadata": {},
   "source": [
    "<div><img src=\"imgs/fluxo8.gif\" width=\"400\" /></div>"
   ]
  },
  {
   "cell_type": "markdown",
   "id": "d769f491",
   "metadata": {},
   "source": [
    "[C] Comandos Python para o fluxograma anterior:\n",
    "\n"
   ]
  },
  {
   "cell_type": "code",
   "execution_count": 30,
   "id": "c96e511a",
   "metadata": {},
   "outputs": [
    {
     "name": "stdout",
     "output_type": "stream",
     "text": [
      "30\n"
     ]
    }
   ],
   "source": [
    "soma = 0\n",
    "for i in range(0, 11, 2):\n",
    "    soma += i\n",
    "print(soma)"
   ]
  }
 ],
 "metadata": {
  "kernelspec": {
   "display_name": "Python 3 (ipykernel)",
   "language": "python",
   "name": "python3"
  },
  "language_info": {
   "codemirror_mode": {
    "name": "ipython",
    "version": 3
   },
   "file_extension": ".py",
   "mimetype": "text/x-python",
   "name": "python",
   "nbconvert_exporter": "python",
   "pygments_lexer": "ipython3",
   "version": "3.9.7"
  }
 },
 "nbformat": 4,
 "nbformat_minor": 5
}
