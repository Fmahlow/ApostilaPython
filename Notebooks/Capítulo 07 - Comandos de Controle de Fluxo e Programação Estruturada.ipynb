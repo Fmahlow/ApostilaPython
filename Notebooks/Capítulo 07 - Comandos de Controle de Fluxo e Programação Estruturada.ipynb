{
 "cells": [
  {
   "cell_type": "markdown",
   "id": "eb220c49",
   "metadata": {},
   "source": [
    "# <center>Capítulo 7: Comandos de Controle de Fluxo e Programação Estruturada\n"
   ]
  },
  {
   "cell_type": "markdown",
   "id": "000416da",
   "metadata": {},
   "source": [
    "## 7.1. Introdução\n",
    "\n"
   ]
  },
  {
   "cell_type": "markdown",
   "id": "e46e1a82",
   "metadata": {},
   "source": [
    "[C] Normalmente, a execução dos comandos num programa é feita na ordem em que os comandos são escritos: de cima para baixo, linha por linha, de acordo com a estrutura sequencial. Entretanto você pode usar comandos para transferir o controle de fluxo para outra parte da mesma unidade de programa ou para outra unidade de programa.\n",
    " \n",
    "\n",
    "[C] O controle pode ser transferido somente para um comando executável."
   ]
  },
  {
   "cell_type": "markdown",
   "id": "5dfedde3",
   "metadata": {},
   "source": [
    "## 7.2. Estruturas de Controle\n",
    "\n"
   ]
  },
  {
   "cell_type": "markdown",
   "id": "2668f2fe",
   "metadata": {},
   "source": [
    "[C] As estruturas básicas de controle são:\n",
    " \n",
    "1. Estrutura sequencial.\n",
    "2. Estrutura de tomada de decisão (if-elif-else).\n",
    "3. Estrutura de laço:\n",
    "4. Estrutura de laço repetição (for-loop).\n",
    "5. faça-enquanto (while-loop)."
   ]
  },
  {
   "cell_type": "markdown",
   "id": "19033c20",
   "metadata": {},
   "source": [
    "## 7.3. Comandos IF\n",
    "\n"
   ]
  },
  {
   "cell_type": "markdown",
   "id": "92d01417",
   "metadata": {},
   "source": [
    "[CF] Os comandos IF transferem o controle do fluxo ou executam outro comando (ou um bloco de comandos) dependendo do resultado verdadeiro ou falso de uma expressão lógica contida no particular comando IF. Os três tipos de comandos IF são:\n",
    "\n",
    "1. IF aritmético.\n",
    "2. IF lógico.\n",
    "3. IF bloco.\n",
    "\n",
    "[CF] Os comandos elif e else, são também apresentados nesta seção, pois eles são usados somente em conjunto com um comando if bloco."
   ]
  },
  {
   "cell_type": "markdown",
   "id": "d26175cf",
   "metadata": {},
   "source": [
    "### 7.3.1. Comando IF lógico\n",
    "\n"
   ]
  },
  {
   "cell_type": "markdown",
   "id": "7cebb33c",
   "metadata": {},
   "source": [
    "[CF] O comando IF lógico calcula uma expressão lógica/relacional e executa ou ignora um comando executável contido no próprio IF, dependendo do valor (falso ou verdadeiro) dessa expressão.\n",
    " \n",
    "\n",
    "[CF] A forma geral do comando IF lógico é:\n",
    "\n",
    "    if e:\n",
    "        c\n",
    "\n",
    "sendo que:\n",
    "\n",
    "- \"e\" é uma expressão lógica ou relacional.\n",
    "- \"c\" é o comando que será executado caso a expressão seja verdade.\n",
    " \n",
    "\n",
    "[E] Vejamos como fica o fluxo do programa quando este chega a estas quatro linhas:\n",
    "\n",
    "    x=a-b\n",
    "    if a == b:\n",
    "        x=a+b\n",
    "    y=x**2\n",
    "\n",
    "Observe que nas últimas 3 linhas:\n",
    "1. if(a.eq.b)\n",
    "2. x=a+b\n",
    "3. y=x**2\n",
    "\n",
    "Então:\n",
    "\n",
    "1. Se de fato a=b, teremos a seguinte ordem de execução: 1 >> 2 >> 3.\n",
    "2. Se, por outro lado, a é diferente de b, teremos a ordem de execução: 1 >> 3."
   ]
  },
  {
   "cell_type": "markdown",
   "id": "a4663992",
   "metadata": {},
   "source": [
    "### 7.3.2. Comandos IF bloco\n",
    "\n"
   ]
  },
  {
   "cell_type": "markdown",
   "id": "84b4daa4",
   "metadata": {},
   "source": [
    "[CF] O comando IF bloco permite a execução de um determinado bloco de comandos, dependendo do valor da(s) expressões lógica(s)/relacional(is) nele contido.\n",
    " \n",
    "\n",
    "<p><font face=\"Times New Roman\">[CF] A forma geral do comando IF bloco\n",
    "é:</font>\n",
    "<br><font face=\"Times New Roman\">&nbsp;&nbsp;&nbsp; if e1:</font>\n",
    "<br><font face=\"Times New Roman\">&nbsp;&nbsp;&nbsp;&nbsp;&nbsp;&nbsp;&nbsp;\n",
    "bloco1</font>\n",
    "<br><font face=\"Times New Roman\">&nbsp;&nbsp;&nbsp; elif e2:</font>\n",
    "<br><font face=\"Times New Roman\">&nbsp;&nbsp;&nbsp;&nbsp;&nbsp;&nbsp;&nbsp;\n",
    "bloco2</font>\n",
    "<br><font face=\"Times New Roman\">&nbsp;&nbsp;&nbsp; elif e3:</font>\n",
    "<br><font face=\"Times New Roman\">&nbsp;&nbsp;&nbsp;&nbsp;&nbsp;&nbsp;&nbsp;\n",
    "bloco3</font>\n",
    "<br><font face=\"Times New Roman\">&nbsp;&nbsp;&nbsp; ...</font>\n",
    "<br><font face=\"Times New Roman\">&nbsp;&nbsp;&nbsp; else:</font>\n",
    "<br><font face=\"Times New Roman\">&nbsp;&nbsp;&nbsp;&nbsp;&nbsp;&nbsp;&nbsp;\n",
    "bloco n</font>\n",
    "\n",
    "sendo que e1, e2,e3, ... são expressões lógicas/relacionais. Deve ficar claro que somente um dos blocos de comandos será executado.\n",
    " \n",
    "\n",
    "[C] O menor IF bloco é a estrutura:\n",
    "\n",
    "    if e:\n",
    "        bloco\n",
    "\n",
    "Vemos que os comandos elif e else são opcionais.\n",
    " \n",
    "\n",
    "[CF] O comando if permite a execução condicional de um bloco de comandos executáveis. É obrigatório usar em conjunção com o espaçamento (identação) para identificar onde o bloco acaba.\n",
    " \n",
    "\n",
    "[CF] A forma geral do comando IF é:\n",
    "\n",
    "    if e:\n",
    "\n",
    "sendo que \"e\" é uma expressão lógica/relacional (portanto produzindo um resultado verdadeiro ou falso).\n",
    " \n",
    "\n",
    "[C] Se a expressão \"e\" for verdadeira, a execução passa para o próximo comando executável até que se encerre a identação. Se for falsa, o controle é transferido para o próximo comando.\n",
    " \n",
    "\n",
    "[CF] O comando ELSE fornece uma rota alternativa para um comando IF ou ELIF. Sua forma geral é simplesmente:\n",
    "\n",
    "    else:\n",
    "    \n",
    "[CF] O comando ELSE é utilizado quando a condição do if acima não é satisfeita.\n",
    " \n",
    "\n",
    "[CF] O comando ELIF combina as funções dos comandos ELSE e IF, pois fornece uma rota alternativa e torna possível uma estrutura IF bloco com mais de uma alternativa.\n",
    " \n",
    "\n",
    "[CF] A forma geral do comando ELIF é:\n",
    "\n",
    "    elif e:\n",
    "\n",
    "sendo que \"e\" é uma expressão lógica/relacional.\n",
    " \n",
    "\n",
    "[C] Se a expressão for verdadeira, o controle passa para o próximo comando executável até o final da identação. Se for falsa, passa para o próximo comando.\n",
    "\n",
    "    \n",
    "[E] Exemplo:"
   ]
  },
  {
   "cell_type": "code",
   "execution_count": 3,
   "id": "6635d6a6",
   "metadata": {},
   "outputs": [
    {
     "name": "stdout",
     "output_type": "stream",
     "text": [
      "Digite a nota do aluno: 4\n",
      "O aluno foi reprovado, mas poderá fazer o exame\n"
     ]
    }
   ],
   "source": [
    "nota = float(input(\"Digite a nota do aluno: \"))\n",
    "if nota >= 5:\n",
    "    print(\"O aluno foi aprovado\")\n",
    "elif nota >= 3.5:\n",
    "    print(\"O aluno foi reprovado, mas poderá fazer o exame\")\n",
    "else:\n",
    "    print(\"o aluno foi reprovado e não poderá fazer o exame\")"
   ]
  },
  {
   "cell_type": "markdown",
   "id": "c97b1254",
   "metadata": {},
   "source": [
    "### 7.3.3. Estruturas de IF bloco encaixados\n",
    "\n"
   ]
  },
  {
   "cell_type": "code",
   "execution_count": 4,
   "id": "d7808ae2",
   "metadata": {},
   "outputs": [
    {
     "name": "stdout",
     "output_type": "stream",
     "text": [
      "Digite a nota do aluno: 8\n",
      "O aluno foi aprovado com distinção\n"
     ]
    }
   ],
   "source": [
    "nota = float(input(\"Digite a nota do aluno: \"))\n",
    "if nota >= 5:\n",
    "    if nota >= 9.5:\n",
    "        print(\"O aluno foi aprovado com louvor\")\n",
    "    elif nota >= 8:\n",
    "        print(\"O aluno foi aprovado com distinção\")\n",
    "    else:\n",
    "        print(\"o aluno foi aprovado\")\n",
    "elif nota >= 3.5:\n",
    "    print(\"O aluno foi reprovado, mas poderá fazer o exame\")\n",
    "else:\n",
    "    print(\"o aluno foi reprovado e não poderá fazer o exame\")"
   ]
  },
  {
   "cell_type": "markdown",
   "id": "000cd6fa",
   "metadata": {},
   "source": [
    "## 7.4. Comando FOR\n",
    "\n"
   ]
  },
  {
   "cell_type": "markdown",
   "id": "679cba29",
   "metadata": {},
   "source": [
    "[CF] O comando for é um comando de controle que permite que um bloco de comandos seja repetitivamente executado. O número de execuções depende da variável de controle.\n",
    " \n",
    "\n",
    "[CF] A forma geral do comando for é:\n",
    "\n",
    "    for v in range(vi, vf, incr):\n",
    "\n",
    "sendo que:\n",
    "\n",
    "- \"v\" é a variável do controle do laço for.\n",
    "- \"vi\" é o valor inicial de v.\n",
    "- \"vf\" é o valor final ou máximo de v.\n",
    "- \"incr\" é o incremento de v. Se for omitido, é suposto como de valor 1.\n",
    "\n",
    "[CF] O for é finalizado com o final da identação, assim como no caso do if.\n",
    "\n",
    "[E] Exemplo:\n",
    "\n",
    "    for v in range(0, 10):\n",
    "        bloco de comandos"
   ]
  },
  {
   "cell_type": "markdown",
   "id": "262f853a",
   "metadata": {},
   "source": [
    "### 7.4.1. Laços de FOR encaixados\n",
    "\n"
   ]
  },
  {
   "cell_type": "markdown",
   "id": "30d4725c",
   "metadata": {},
   "source": [
    "[C] É possível encaixar dois ou mais comandos for.\n",
    "\n",
    "[C] Para as estruturas FOR encaixadas, sua organização interna é ditada pela identação do código.\n",
    " "
   ]
  },
  {
   "cell_type": "markdown",
   "id": "79e0b9b0",
   "metadata": {},
   "source": [
    "## 7.5 Comando WHILE"
   ]
  },
  {
   "cell_type": "markdown",
   "id": "485b4e09",
   "metadata": {},
   "source": [
    "A estrutura WHILE (while loop) executa o laço enquanto uma expressão lógica/relacional for verdadeira:\n",
    "\n",
    "    do while (var == 0):\n",
    "        bloco de comandos\n",
    "    \n"
   ]
  },
  {
   "cell_type": "markdown",
   "id": "84b4d3a2",
   "metadata": {},
   "source": [
    "## 7.6. Comando BREAK\n",
    "\n"
   ]
  },
  {
   "cell_type": "markdown",
   "id": "75e59c77",
   "metadata": {},
   "source": [
    "[CF] O comando break termina abruptamente um laço for, direcionando o fluxo do programa para a primeira linha de comando após aquele respectivo comando for envolvido.\n",
    "\n"
   ]
  },
  {
   "cell_type": "markdown",
   "id": "decd2225",
   "metadata": {},
   "source": [
    "## 7.7. Comando CONTINUE\n",
    "\n"
   ]
  },
  {
   "cell_type": "markdown",
   "id": "65e4397f",
   "metadata": {},
   "source": [
    "[CF] O comando continue é um comando executável que somente passa o controle para o próximo comando executável. A forma geral é:\n",
    "\n",
    "    continue\n"
   ]
  }
 ],
 "metadata": {
  "kernelspec": {
   "display_name": "Python 3 (ipykernel)",
   "language": "python",
   "name": "python3"
  },
  "language_info": {
   "codemirror_mode": {
    "name": "ipython",
    "version": 3
   },
   "file_extension": ".py",
   "mimetype": "text/x-python",
   "name": "python",
   "nbconvert_exporter": "python",
   "pygments_lexer": "ipython3",
   "version": "3.9.7"
  }
 },
 "nbformat": 4,
 "nbformat_minor": 5
}
